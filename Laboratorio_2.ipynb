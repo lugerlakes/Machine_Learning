{
  "cells": [
    {
      "cell_type": "markdown",
      "metadata": {
        "id": "rNxA68EUIw0f"
      },
      "source": [
        "# LABORATORIO #2 MACHINE LEARNING"
      ]
    },
    {
      "cell_type": "markdown",
      "metadata": {
        "id": "PhsrJmw0LkNq"
      },
      "source": [
        "\n",
        "Objetivos:\n",
        "- MP3.zip: Entrenar y evaluar el algoritmo Naive Bayes en el dataset provisto, relacionados a comentarios de películas con connotación positiva y negativa. Asimismo, ajustar hiperparámetros para obtener una mejor predicción.\n",
        "\n",
        "- Breast Cancer: Entrenar y evaluar los algoritmos de Machine Learning Naive Bayes, Linear Discrimination Analysis y Logistic Regression en el dataset Breast Cancer."
      ]
    },
    {
      "cell_type": "markdown",
      "metadata": {
        "id": "-GZ0QOv_Iw0j"
      },
      "source": [
        "### Importar librerías"
      ]
    },
    {
      "cell_type": "code",
      "execution_count": 1,
      "metadata": {
        "id": "dzmysp82Iw0j"
      },
      "outputs": [],
      "source": [
        "%matplotlib inline\n",
        "import pandas as pd\n",
        "import numpy as np\n",
        "import matplotlib.pyplot as plt\n",
        "import seaborn as sns; sns.set()\n",
        "import zipfile\n",
        "import os\n",
        "from sklearn.datasets import load_breast_cancer\n",
        "from sklearn.preprocessing import LabelEncoder, MinMaxScaler\n",
        "from sklearn.feature_extraction.text import CountVectorizer\n",
        "from sklearn.model_selection import train_test_split, cross_val_score\n",
        "from sklearn.naive_bayes import MultinomialNB, GaussianNB\n",
        "from sklearn.linear_model import LogisticRegression\n",
        "from sklearn.discriminant_analysis import LinearDiscriminantAnalysis as LDA\n",
        "from sklearn.metrics import confusion_matrix, accuracy_score,recall_score,precision_score, classification_report, f1_score\n",
        "\n",
        "from sklearn.preprocessing import LabelEncoder\n",
        "from sklearn.model_selection import GridSearchCV\n",
        "from sklearn.pipeline import Pipeline\n",
        "\n"
      ]
    },
    {
      "cell_type": "markdown",
      "metadata": {
        "id": "CcjIhNjKIw0l"
      },
      "source": [
        "# I.- MP3.zip"
      ]
    },
    {
      "cell_type": "markdown",
      "metadata": {
        "id": "EgfoRPTJIw0l"
      },
      "source": [
        "### Importar zipfile"
      ]
    },
    {
      "cell_type": "markdown",
      "metadata": {
        "id": "1M7xgR6pNVQv"
      },
      "source": [
        "1. Carga y Preprocesamiento de Datos: considerando que tenemos textos en archivos .txt dentro de carpetas pos y neg, se crea una función que recorra estos archivos, lea los textos y asigne etiquetas.\n",
        "\n"
      ]
    },
    {
      "cell_type": "code",
      "execution_count": null,
      "metadata": {
        "id": "k8sFlK9ZLkNr"
      },
      "outputs": [],
      "source": [
        "# Ruta al archivo ZIP\n",
        "zip_file_path = 'PATH_FILE\\\\MP3_data.zip'\n",
        "\n",
        "# Directorio de extracción\n",
        "extraction_dir = 'PATH_FILE\\\\MP3_data_zip'\n",
        "\n",
        "# Descomprimir el archivo ZIP\n",
        "with zipfile.ZipFile(zip_file_path, 'r') as zip_ref:\n",
        "    zip_ref.extractall(extraction_dir)\n",
        "\n",
        "# Directorio de entrenamiento y prueba\n",
        "train_dir = os.path.join(extraction_dir, 'train')\n",
        "dev_dir = os.path.join(extraction_dir, 'dev')\n"
      ]
    },
    {
      "cell_type": "code",
      "execution_count": null,
      "metadata": {
        "id": "Tz-i38U9M9Hv"
      },
      "outputs": [],
      "source": [
        "# Directorio de entrenamiento y prueba\n",
        "train_dir = os.path.join(extraction_dir, 'train')\n",
        "dev_dir = os.path.join(extraction_dir, 'dev')"
      ]
    },
    {
      "cell_type": "markdown",
      "metadata": {
        "id": "lsXrfFNFNtqK"
      },
      "source": [
        "2. División de Datos: Se dividieron los datos en conjuntos de entrenamiento y prueba, esto permite entrenar y luego evaluar su rendimiento en un nuevo conjunto de datos.\n",
        "\n"
      ]
    },
    {
      "cell_type": "code",
      "execution_count": null,
      "metadata": {
        "id": "uqYwMPHPLkNs"
      },
      "outputs": [],
      "source": [
        "def load_comments_from_folder(folder_path):\n",
        "    comments = []\n",
        "    for sentiment in ['pos', 'neg']:\n",
        "        sentiment_dir = os.path.join(folder_path, sentiment)\n",
        "        for filename in os.listdir(sentiment_dir):\n",
        "            file_path = os.path.join(sentiment_dir, filename)\n",
        "            with open(file_path, 'r', encoding='utf-8', errors='ignore') as file:\n",
        "                comment = file.read()\n",
        "                comments.append((comment, sentiment))\n",
        "    return comments\n"
      ]
    },
    {
      "cell_type": "code",
      "execution_count": null,
      "metadata": {
        "id": "ae3O-8uJNF7u"
      },
      "outputs": [],
      "source": [
        "# Cargar comentarios de entrenamiento y prueba (dev)\n",
        "train_comments = load_comments_from_folder(train_dir)\n",
        "dev_comments = load_comments_from_folder(dev_dir)"
      ]
    },
    {
      "cell_type": "markdown",
      "metadata": {
        "id": "w2IAF_VtNy-Z"
      },
      "source": [
        "3. Vectorización de Texto: antes de comenzar a entrenar el modelo Naive Bayes y considerando que existen archivos .txt, se realizó una vectorización para que los datos puedan ser procesados por el algoritmo de clasificación.\n",
        "\n"
      ]
    },
    {
      "cell_type": "code",
      "execution_count": null,
      "metadata": {
        "id": "jcqgzu_wNHd3"
      },
      "outputs": [],
      "source": [
        "# Preprocesamiento y Vectorización\n",
        "vectorizer = CountVectorizer()\n",
        "X_train = vectorizer.fit_transform([comment for comment, _ in train_comments])\n",
        "y_train = [sentiment for _, sentiment in train_comments]\n",
        "X_dev = vectorizer.transform([comment for comment, _ in dev_comments])\n",
        "y_dev = [sentiment for _, sentiment in dev_comments]"
      ]
    },
    {
      "cell_type": "markdown",
      "metadata": {
        "id": "DD0VVCYTN3dg"
      },
      "source": [
        "4. Entrenamiento del Modelo: Permite que el modelo se ajuste, utilizando el conjunto de entrenamiento. Para este ejercicio, relacionado a clasificación de texto, se utilizó el algoritmo \"Multinomial Naive Bayes\", debido a que permite un manejo de datos discretos.\n"
      ]
    },
    {
      "cell_type": "code",
      "execution_count": null,
      "metadata": {
        "id": "0tLOcYLDNIpP",
        "outputId": "00003ae6-c62c-4b48-9eef-cf6d2ee683d5"
      },
      "outputs": [
        {
          "data": {
            "text/html": [
              "<style>#sk-container-id-1 {color: black;}#sk-container-id-1 pre{padding: 0;}#sk-container-id-1 div.sk-toggleable {background-color: white;}#sk-container-id-1 label.sk-toggleable__label {cursor: pointer;display: block;width: 100%;margin-bottom: 0;padding: 0.3em;box-sizing: border-box;text-align: center;}#sk-container-id-1 label.sk-toggleable__label-arrow:before {content: \"▸\";float: left;margin-right: 0.25em;color: #696969;}#sk-container-id-1 label.sk-toggleable__label-arrow:hover:before {color: black;}#sk-container-id-1 div.sk-estimator:hover label.sk-toggleable__label-arrow:before {color: black;}#sk-container-id-1 div.sk-toggleable__content {max-height: 0;max-width: 0;overflow: hidden;text-align: left;background-color: #f0f8ff;}#sk-container-id-1 div.sk-toggleable__content pre {margin: 0.2em;color: black;border-radius: 0.25em;background-color: #f0f8ff;}#sk-container-id-1 input.sk-toggleable__control:checked~div.sk-toggleable__content {max-height: 200px;max-width: 100%;overflow: auto;}#sk-container-id-1 input.sk-toggleable__control:checked~label.sk-toggleable__label-arrow:before {content: \"▾\";}#sk-container-id-1 div.sk-estimator input.sk-toggleable__control:checked~label.sk-toggleable__label {background-color: #d4ebff;}#sk-container-id-1 div.sk-label input.sk-toggleable__control:checked~label.sk-toggleable__label {background-color: #d4ebff;}#sk-container-id-1 input.sk-hidden--visually {border: 0;clip: rect(1px 1px 1px 1px);clip: rect(1px, 1px, 1px, 1px);height: 1px;margin: -1px;overflow: hidden;padding: 0;position: absolute;width: 1px;}#sk-container-id-1 div.sk-estimator {font-family: monospace;background-color: #f0f8ff;border: 1px dotted black;border-radius: 0.25em;box-sizing: border-box;margin-bottom: 0.5em;}#sk-container-id-1 div.sk-estimator:hover {background-color: #d4ebff;}#sk-container-id-1 div.sk-parallel-item::after {content: \"\";width: 100%;border-bottom: 1px solid gray;flex-grow: 1;}#sk-container-id-1 div.sk-label:hover label.sk-toggleable__label {background-color: #d4ebff;}#sk-container-id-1 div.sk-serial::before {content: \"\";position: absolute;border-left: 1px solid gray;box-sizing: border-box;top: 0;bottom: 0;left: 50%;z-index: 0;}#sk-container-id-1 div.sk-serial {display: flex;flex-direction: column;align-items: center;background-color: white;padding-right: 0.2em;padding-left: 0.2em;position: relative;}#sk-container-id-1 div.sk-item {position: relative;z-index: 1;}#sk-container-id-1 div.sk-parallel {display: flex;align-items: stretch;justify-content: center;background-color: white;position: relative;}#sk-container-id-1 div.sk-item::before, #sk-container-id-1 div.sk-parallel-item::before {content: \"\";position: absolute;border-left: 1px solid gray;box-sizing: border-box;top: 0;bottom: 0;left: 50%;z-index: -1;}#sk-container-id-1 div.sk-parallel-item {display: flex;flex-direction: column;z-index: 1;position: relative;background-color: white;}#sk-container-id-1 div.sk-parallel-item:first-child::after {align-self: flex-end;width: 50%;}#sk-container-id-1 div.sk-parallel-item:last-child::after {align-self: flex-start;width: 50%;}#sk-container-id-1 div.sk-parallel-item:only-child::after {width: 0;}#sk-container-id-1 div.sk-dashed-wrapped {border: 1px dashed gray;margin: 0 0.4em 0.5em 0.4em;box-sizing: border-box;padding-bottom: 0.4em;background-color: white;}#sk-container-id-1 div.sk-label label {font-family: monospace;font-weight: bold;display: inline-block;line-height: 1.2em;}#sk-container-id-1 div.sk-label-container {text-align: center;}#sk-container-id-1 div.sk-container {/* jupyter's `normalize.less` sets `[hidden] { display: none; }` but bootstrap.min.css set `[hidden] { display: none !important; }` so we also need the `!important` here to be able to override the default hidden behavior on the sphinx rendered scikit-learn.org. See: https://github.com/scikit-learn/scikit-learn/issues/21755 */display: inline-block !important;position: relative;}#sk-container-id-1 div.sk-text-repr-fallback {display: none;}</style><div id=\"sk-container-id-1\" class=\"sk-top-container\"><div class=\"sk-text-repr-fallback\"><pre>MultinomialNB()</pre><b>In a Jupyter environment, please rerun this cell to show the HTML representation or trust the notebook. <br />On GitHub, the HTML representation is unable to render, please try loading this page with nbviewer.org.</b></div><div class=\"sk-container\" hidden><div class=\"sk-item\"><div class=\"sk-estimator sk-toggleable\"><input class=\"sk-toggleable__control sk-hidden--visually\" id=\"sk-estimator-id-1\" type=\"checkbox\" checked><label for=\"sk-estimator-id-1\" class=\"sk-toggleable__label sk-toggleable__label-arrow\">MultinomialNB</label><div class=\"sk-toggleable__content\"><pre>MultinomialNB()</pre></div></div></div></div></div>"
            ],
            "text/plain": [
              "MultinomialNB()"
            ]
          },
          "execution_count": 9,
          "metadata": {},
          "output_type": "execute_result"
        }
      ],
      "source": [
        "# Entrenar clasificador Naive Bayes\n",
        "naive_bayes_classifier = MultinomialNB()\n",
        "naive_bayes_classifier.fit(X_train, y_train)"
      ]
    },
    {
      "cell_type": "markdown",
      "metadata": {
        "id": "Il-udG06N8dn"
      },
      "source": [
        "5. Evaluación del Modelo: se evaluó el modelo utilizando las siguientes métricas en el conjunto de prueba:\n",
        "- Accuracy\n",
        "- Recall\n",
        "- Precision\n",
        "- F1 Score\n",
        "- ROC AUC\n",
        "\n"
      ]
    },
    {
      "cell_type": "code",
      "execution_count": null,
      "metadata": {
        "id": "QlA7saMlNJuO"
      },
      "outputs": [],
      "source": [
        "# Realizar predicciones en el conjunto de prueba\n",
        "predictions = naive_bayes_classifier.predict(X_dev)"
      ]
    },
    {
      "cell_type": "code",
      "execution_count": null,
      "metadata": {
        "id": "g9i4vuJeLkNt",
        "outputId": "3021aef5-21dc-4155-8dae-1e943e5c77b5"
      },
      "outputs": [
        {
          "name": "stdout",
          "output_type": "stream",
          "text": [
            "Accuracy: 0.8948\n",
            "Recall: 0.941\n",
            "Precision: 0.9284657128761716\n",
            "F1 Score: 0.934690836851254\n",
            "ROC AUC: 0.8254999999999999\n"
          ]
        }
      ],
      "source": [
        "# Calcular la precisión\n",
        "accuracy = accuracy_score(y_dev, predictions)\n",
        "print(\"Accuracy:\", accuracy)\n",
        "\n",
        "# Calcular la recuperación (recall)\n",
        "recall = recall_score(y_dev, predictions, pos_label='pos')\n",
        "print(\"Recall:\", recall)\n",
        "\n",
        "# Calcular la precisión\n",
        "precision = precision_score(y_dev, predictions, pos_label='pos')\n",
        "print(\"Precision:\", precision)\n",
        "\n",
        "# Calcular el puntaje F1\n",
        "f1 = f1_score(y_dev, predictions, pos_label='pos')\n",
        "print(\"F1 Score:\", f1)\n",
        "\n",
        "# Métrica ROC AUC\n",
        "label_encoder = LabelEncoder()\n",
        "\n",
        "# Convertir etiquetas a valores numéricos\n",
        "y_dev_encoded = label_encoder.fit_transform(y_dev)\n",
        "predictions_encoded = label_encoder.transform(predictions)\n",
        "\n",
        "# Calcular puntaje ROC AUC\n",
        "roc_auc = roc_auc_score(y_dev_encoded, predictions_encoded)\n",
        "print(\"ROC AUC:\", roc_auc)\n"
      ]
    },
    {
      "cell_type": "markdown",
      "metadata": {
        "id": "thSzYcCqLkNt"
      },
      "source": [
        "- Teniendo en cuenta, que el área bajo la curva ROC AUC proporciona una medida numérica del rendimiento global del modelo, por lo que mientras mayor sea el valor de esta métrica, mayor es su capacidad para discriminar entre las dos clases.\n",
        "- El resultado ROC AUC obtenido para este modelo es de 0.825, indicando que el modelo tiene una buena capacidad para discriminar entre los comentarios positivos y negativos."
      ]
    },
    {
      "cell_type": "markdown",
      "metadata": {
        "id": "EF8SrQP0OJS4"
      },
      "source": [
        "6. Ajuste de Hiperparámetros (Fine-tuning):\n",
        "- A continuación se ajustaron los hiperparámetros del modelo Multinomial Naive Bayes y/o el proceso de vectorización para mejorar el rendimiento del modelo completo.\n",
        "- Se utilizó el método GridSearch CV para encontrar los mejores hiperparámetros del modelo."
      ]
    },
    {
      "cell_type": "markdown",
      "metadata": {
        "id": "71UzisdFLkNt"
      },
      "source": [
        "#### valores de hiperparámetros predifinidos:\n",
        "- CountVectorizer()\n",
        "    - max_features= None\n",
        "    - max_df= 1.0\n",
        "    - min_df= 1\n",
        "    - ngram_range=(1,1)\n",
        "\n",
        "- MultinomialNB()\n",
        "    - alpha= 1.0  \n",
        "    - fit_prior= True"
      ]
    },
    {
      "cell_type": "code",
      "execution_count": null,
      "metadata": {
        "id": "5-hcmjLyLkNt",
        "outputId": "8e3c20e2-b7f7-471b-8660-31de21a26d96"
      },
      "outputs": [
        {
          "name": "stdout",
          "output_type": "stream",
          "text": [
            "Fitting 5 folds for each of 216 candidates, totalling 1080 fits\n",
            "Best parameters set:\n",
            "\tclassifier__alpha: 2\n",
            "\tclassifier__fit_prior: True\n",
            "\tvectorizer__max_df: 0.5\n",
            "\tvectorizer__max_features: 20000\n",
            "\tvectorizer__min_df: 1\n",
            "\tvectorizer__ngram_range: (1, 2)\n"
          ]
        }
      ],
      "source": [
        "\n",
        "\n",
        "pipeline = Pipeline([\n",
        "    ('vectorizer', CountVectorizer()),\n",
        "    ('classifier', MultinomialNB())\n",
        "])\n",
        "\n",
        "parameters = {\n",
        "    'vectorizer__max_features': (10000, 20000),\n",
        "    'vectorizer__max_df': (0.5, 0.75, 1.0),\n",
        "    'vectorizer__min_df': (1, 2, 3),\n",
        "    'vectorizer__ngram_range': ((1, 1), (1, 2)),\n",
        "    'classifier__alpha': (0.1, 1, 2),\n",
        "    'classifier__fit_prior': (True, False),\n",
        "}\n",
        "\n",
        "\n",
        "grid_search = GridSearchCV(pipeline, parameters, n_jobs=-1, verbose=1)\n",
        "\n",
        "\n",
        "grid_search.fit([comment for comment, _ in train_comments], [sentiment for _, sentiment in train_comments])\n",
        "\n",
        "\n",
        "print(\"Best parameters set:\")\n",
        "best_parameters = grid_search.best_estimator_.get_params()\n",
        "for param_name in sorted(parameters.keys()):\n",
        "    print(f\"\\t{param_name}: {best_parameters[param_name]}\")\n"
      ]
    },
    {
      "cell_type": "markdown",
      "metadata": {
        "id": "sAAsE_D3LkNu"
      },
      "source": [
        "El conjunto de entrenamiento se divide nuevamente en varias partes más pequeñas llamadas \"folds\" o \"pliegues\". Por ejemplo, si se utiliza una validación cruzada con 5 pliegues (k-fold cross-validation), se dividirá en 5 partes iguales. Esto se hace para que puedas evaluar el rendimiento del modelo de manera más robusta y evitar problemas de sobreajuste o subajuste."
      ]
    },
    {
      "cell_type": "markdown",
      "metadata": {
        "id": "GGeQo6FKLkNu"
      },
      "source": [
        "### Resultados de GridSearch CV obtenidos:\n",
        "\n",
        "- Tiempo de procesamiento: 16 min 56.3s\n",
        "- Cada una de las 216 posibles combinaciones de hiperparámetros, se dividieron en varias partes (folds), utilizando una validación cruzada que segmentó en 5 partes de igual tamaño, por lo tanto, se obtuvieron 1080 posibles resultados en este proceso. A continuación se presentan los resultados obtenidos con GridSearch CV:\n",
        "\n",
        "\t- classifier__alpha: 2\n",
        "\t- classifier__fit_prior: True\n",
        "\t- vectorizer__max_df: 0.5\n",
        "\t- vectorizer__max_features: 20000\n",
        "\t- vectorizer__min_df: 1\n",
        "\t- vectorizer__ngram_range: (1, 2)"
      ]
    },
    {
      "cell_type": "markdown",
      "metadata": {
        "id": "cNbDz3voLkNu"
      },
      "source": [
        "## Reentrenamiento (post Finetuning)"
      ]
    },
    {
      "cell_type": "markdown",
      "metadata": {
        "id": "5VXX-rBWLkNu"
      },
      "source": [
        "### Preprocesamiento con hiperparámetros obtenidos de GridSearch CV"
      ]
    },
    {
      "cell_type": "code",
      "execution_count": null,
      "metadata": {
        "id": "l-4EbbbZLkNu"
      },
      "outputs": [],
      "source": [
        "vectorizer_2 = CountVectorizer(max_df=0.5,max_features=20000,min_df=1,ngram_range=(1,2))"
      ]
    },
    {
      "cell_type": "code",
      "execution_count": null,
      "metadata": {
        "id": "fbGG6A0kLkNu"
      },
      "outputs": [],
      "source": [
        "X_train_2 = vectorizer_2.fit_transform([comment for comment, _ in train_comments])\n",
        "y_train_2 = [sentiment for _, sentiment in train_comments]\n",
        "X_dev_2 = vectorizer_2.transform([comment for comment, _ in dev_comments])\n",
        "y_dev_2 = [sentiment for _, sentiment in dev_comments]"
      ]
    },
    {
      "cell_type": "markdown",
      "metadata": {
        "id": "9GsDH2hfLkNu"
      },
      "source": [
        "### Entrenamiento Multinomial Naive Bayes (con hiperparámetros de GridSearch)"
      ]
    },
    {
      "cell_type": "code",
      "execution_count": null,
      "metadata": {
        "id": "eVH2JGC_LkNu",
        "outputId": "a310fe48-e04f-4302-8a52-7b421d4323cd"
      },
      "outputs": [
        {
          "data": {
            "text/html": [
              "<style>#sk-container-id-3 {color: black;}#sk-container-id-3 pre{padding: 0;}#sk-container-id-3 div.sk-toggleable {background-color: white;}#sk-container-id-3 label.sk-toggleable__label {cursor: pointer;display: block;width: 100%;margin-bottom: 0;padding: 0.3em;box-sizing: border-box;text-align: center;}#sk-container-id-3 label.sk-toggleable__label-arrow:before {content: \"▸\";float: left;margin-right: 0.25em;color: #696969;}#sk-container-id-3 label.sk-toggleable__label-arrow:hover:before {color: black;}#sk-container-id-3 div.sk-estimator:hover label.sk-toggleable__label-arrow:before {color: black;}#sk-container-id-3 div.sk-toggleable__content {max-height: 0;max-width: 0;overflow: hidden;text-align: left;background-color: #f0f8ff;}#sk-container-id-3 div.sk-toggleable__content pre {margin: 0.2em;color: black;border-radius: 0.25em;background-color: #f0f8ff;}#sk-container-id-3 input.sk-toggleable__control:checked~div.sk-toggleable__content {max-height: 200px;max-width: 100%;overflow: auto;}#sk-container-id-3 input.sk-toggleable__control:checked~label.sk-toggleable__label-arrow:before {content: \"▾\";}#sk-container-id-3 div.sk-estimator input.sk-toggleable__control:checked~label.sk-toggleable__label {background-color: #d4ebff;}#sk-container-id-3 div.sk-label input.sk-toggleable__control:checked~label.sk-toggleable__label {background-color: #d4ebff;}#sk-container-id-3 input.sk-hidden--visually {border: 0;clip: rect(1px 1px 1px 1px);clip: rect(1px, 1px, 1px, 1px);height: 1px;margin: -1px;overflow: hidden;padding: 0;position: absolute;width: 1px;}#sk-container-id-3 div.sk-estimator {font-family: monospace;background-color: #f0f8ff;border: 1px dotted black;border-radius: 0.25em;box-sizing: border-box;margin-bottom: 0.5em;}#sk-container-id-3 div.sk-estimator:hover {background-color: #d4ebff;}#sk-container-id-3 div.sk-parallel-item::after {content: \"\";width: 100%;border-bottom: 1px solid gray;flex-grow: 1;}#sk-container-id-3 div.sk-label:hover label.sk-toggleable__label {background-color: #d4ebff;}#sk-container-id-3 div.sk-serial::before {content: \"\";position: absolute;border-left: 1px solid gray;box-sizing: border-box;top: 0;bottom: 0;left: 50%;z-index: 0;}#sk-container-id-3 div.sk-serial {display: flex;flex-direction: column;align-items: center;background-color: white;padding-right: 0.2em;padding-left: 0.2em;position: relative;}#sk-container-id-3 div.sk-item {position: relative;z-index: 1;}#sk-container-id-3 div.sk-parallel {display: flex;align-items: stretch;justify-content: center;background-color: white;position: relative;}#sk-container-id-3 div.sk-item::before, #sk-container-id-3 div.sk-parallel-item::before {content: \"\";position: absolute;border-left: 1px solid gray;box-sizing: border-box;top: 0;bottom: 0;left: 50%;z-index: -1;}#sk-container-id-3 div.sk-parallel-item {display: flex;flex-direction: column;z-index: 1;position: relative;background-color: white;}#sk-container-id-3 div.sk-parallel-item:first-child::after {align-self: flex-end;width: 50%;}#sk-container-id-3 div.sk-parallel-item:last-child::after {align-self: flex-start;width: 50%;}#sk-container-id-3 div.sk-parallel-item:only-child::after {width: 0;}#sk-container-id-3 div.sk-dashed-wrapped {border: 1px dashed gray;margin: 0 0.4em 0.5em 0.4em;box-sizing: border-box;padding-bottom: 0.4em;background-color: white;}#sk-container-id-3 div.sk-label label {font-family: monospace;font-weight: bold;display: inline-block;line-height: 1.2em;}#sk-container-id-3 div.sk-label-container {text-align: center;}#sk-container-id-3 div.sk-container {/* jupyter's `normalize.less` sets `[hidden] { display: none; }` but bootstrap.min.css set `[hidden] { display: none !important; }` so we also need the `!important` here to be able to override the default hidden behavior on the sphinx rendered scikit-learn.org. See: https://github.com/scikit-learn/scikit-learn/issues/21755 */display: inline-block !important;position: relative;}#sk-container-id-3 div.sk-text-repr-fallback {display: none;}</style><div id=\"sk-container-id-3\" class=\"sk-top-container\"><div class=\"sk-text-repr-fallback\"><pre>MultinomialNB(alpha=2)</pre><b>In a Jupyter environment, please rerun this cell to show the HTML representation or trust the notebook. <br />On GitHub, the HTML representation is unable to render, please try loading this page with nbviewer.org.</b></div><div class=\"sk-container\" hidden><div class=\"sk-item\"><div class=\"sk-estimator sk-toggleable\"><input class=\"sk-toggleable__control sk-hidden--visually\" id=\"sk-estimator-id-3\" type=\"checkbox\" checked><label for=\"sk-estimator-id-3\" class=\"sk-toggleable__label sk-toggleable__label-arrow\">MultinomialNB</label><div class=\"sk-toggleable__content\"><pre>MultinomialNB(alpha=2)</pre></div></div></div></div></div>"
            ],
            "text/plain": [
              "MultinomialNB(alpha=2)"
            ]
          },
          "execution_count": 24,
          "metadata": {},
          "output_type": "execute_result"
        }
      ],
      "source": [
        "# Entrenar clasificador Naive Bayes\n",
        "naive_bayes_classifier_2 = MultinomialNB(alpha=2,fit_prior=True)\n",
        "naive_bayes_classifier_2.fit(X_train_2, y_train_2)"
      ]
    },
    {
      "cell_type": "code",
      "execution_count": null,
      "metadata": {
        "id": "NJfFTRAjLkNu"
      },
      "outputs": [],
      "source": [
        "# Realizar predicciones en el conjunto de prueba\n",
        "predictions_2 = naive_bayes_classifier_2.predict(X_dev_2)"
      ]
    },
    {
      "cell_type": "markdown",
      "metadata": {
        "id": "qVk7s5GmLkNu"
      },
      "source": [
        "## Evaluar el modelo (optimizado)"
      ]
    },
    {
      "cell_type": "code",
      "execution_count": null,
      "metadata": {
        "id": "AHW1Cc_pLkNv",
        "outputId": "065704c5-998d-4855-a213-3cfecc0c3946"
      },
      "outputs": [
        {
          "name": "stdout",
          "output_type": "stream",
          "text": [
            "Accuracy with fine_tuning: 0.8788\n",
            "Recall with fine_tuning: 0.89125\n",
            "Precision with fine_tuning: 0.9542291220556746\n",
            "F1 Score with fine_tuning: 0.921664943123061\n",
            "ROC AUC with fine_tuning: 0.8601249999999999\n"
          ]
        }
      ],
      "source": [
        "# Calcular la precisión\n",
        "accuracy_2 = accuracy_score(y_dev_2, predictions_2)\n",
        "print(\"Accuracy with fine_tuning:\", accuracy_2)\n",
        "\n",
        "# Calcular la recuperación (recall)\n",
        "recall_2 = recall_score(y_dev_2, predictions_2, pos_label='pos')\n",
        "print(\"Recall with fine_tuning:\", recall_2)\n",
        "\n",
        "# Calcular la precisión\n",
        "precision_2 = precision_score(y_dev_2, predictions_2, pos_label='pos')\n",
        "print(\"Precision with fine_tuning:\", precision_2)\n",
        "\n",
        "# Calcular el puntaje F1\n",
        "f1_2 = f1_score(y_dev_2, predictions_2, pos_label='pos')\n",
        "print(\"F1 Score with fine_tuning:\", f1_2)\n",
        "\n",
        "# ROC AUC\n",
        "# Convertir etiquetas a valores numéricos\n",
        "y_dev_encoded_2 = label_encoder.fit_transform(y_dev_2)\n",
        "predictions_encoded_2 = label_encoder.transform(predictions_2)\n",
        "\n",
        "# Calcular el área bajo la curva ROC AUC\n",
        "roc_auc_2 = roc_auc_score(y_dev_encoded_2, predictions_encoded_2)\n",
        "print(\"ROC AUC with fine_tuning:\", roc_auc_2)"
      ]
    },
    {
      "cell_type": "markdown",
      "metadata": {
        "id": "yEgBBJ86LkNv"
      },
      "source": [
        "### Tabla comparativa de evaluación del modelo Multinomial Naive Bayes antes y después del fine-tuning:"
      ]
    },
    {
      "cell_type": "code",
      "execution_count": null,
      "metadata": {
        "id": "xL15zsb5LkNv",
        "outputId": "a8e0a0d7-6fe8-487e-86a2-05481f9b9825"
      },
      "outputs": [
        {
          "name": "stdout",
          "output_type": "stream",
          "text": [
            "      Metric  Before Fine-tuning  After Fine-tuning (Grid_Search)\n",
            "0   Accuracy            0.894800                         0.878800\n",
            "1     Recall            0.941000                         0.891250\n",
            "2  Precision            0.928466                         0.954229\n",
            "3   F1 Score            0.934691                         0.921665\n",
            "4    ROC AUC            0.825500                         0.860125\n"
          ]
        }
      ],
      "source": [
        "evaluation = {\n",
        "    'Metric': ['Accuracy', 'Recall', 'Precision', 'F1 Score','ROC AUC'],\n",
        "    'Before Fine-tuning': [accuracy, recall, precision, f1,roc_auc],\n",
        "    'After Fine-tuning (Grid_Search)': [accuracy_2, recall_2, precision_2, f1_2,roc_auc_2]\n",
        "}\n",
        "\n",
        "evaluation_df = pd.DataFrame(evaluation)\n",
        "print(evaluation_df)\n"
      ]
    },
    {
      "cell_type": "markdown",
      "metadata": {
        "id": "T1_WkUVkLkNv"
      },
      "source": [
        "### Análisis de los resultados:\n",
        "- Accuracy (Exactitud): Ha disminuido después del fine-tuning, lo que quiere decir que el modelo ajustado predice un menor porcentaje de labels (positivos-negativos) correctamente en comparación con el modelo original.\n",
        "- Recall (Sensibilidad): Ha disminuido después del ajuste. El modelo ajustado detecta un menor porcentaje de verdaderos positivos en comparación con el modelo original.\n",
        "- Precision: La precisión ha aumentado con el ajuste. Lo que quiere decir, que el modelo ajustado predice un mayor porcentaje de positivos correctamente en comparación con el modelo original.\n",
        "- F1 Score: Ha disminuido ligeramente después del fine-tuning.\n",
        "- Área bajo la curva ROC AUC: Se obtuvo una mejora en esta métrica desde 0.82 a 0.86 con el ajuste de hiperparámetros, lo que quiere decir que el modelo logra determinar de mejor forma los comentarios positivos y negativos respecto al modelo anterior, ya que se aproxima a 1.\n",
        "\n",
        "Finalmente, se puede decir que para este caso, la métrica más útil fue el ROC AUC, ya que para este caso se busca maximizar la discriminación entre ambas clases (comentarios positivos y negativos), por lo que el ajuste de hiperparámetros realizado contribuyó de mejor manera a su objetivo."
      ]
    },
    {
      "cell_type": "markdown",
      "metadata": {
        "id": "M4Gc0A4WIw0q"
      },
      "source": [
        "# II.- Breast Cancer"
      ]
    },
    {
      "cell_type": "markdown",
      "metadata": {
        "id": "7ypSHcMbIw0q"
      },
      "source": [
        "#### Ajustar los siguientes algoritmos a la base Breast Cancer y describir qué modelo realiza una mejor predicción.\n",
        "- Naive Bayes\n",
        "- Linear Discrimination Analysis (LDA)\n",
        "- Logistic Regression"
      ]
    },
    {
      "cell_type": "markdown",
      "metadata": {
        "id": "YhwsvuE3Iw0q"
      },
      "source": [
        "### Cargar el dataset Breast Cancer y convertirlo en Data Frame:"
      ]
    },
    {
      "cell_type": "code",
      "execution_count": 2,
      "metadata": {
        "id": "Cl1cRJwUIw0q"
      },
      "outputs": [],
      "source": [
        "cancer=load_breast_cancer()\n",
        "\n",
        "df_cancer=pd.DataFrame(data=cancer.data,columns=cancer.feature_names)\n",
        "df_cancer['target']=cancer.target\n"
      ]
    },
    {
      "cell_type": "code",
      "execution_count": 3,
      "metadata": {
        "colab": {
          "base_uri": "https://localhost:8080/"
        },
        "id": "Jv6-ZNPKLkN0",
        "outputId": "cb3574a4-6717-40b2-a038-0cbfe4d7ddf3"
      },
      "outputs": [
        {
          "data": {
            "text/plain": [
              "array([0, 1])"
            ]
          },
          "execution_count": 3,
          "metadata": {},
          "output_type": "execute_result"
        }
      ],
      "source": [
        "df_cancer['target'].unique()"
      ]
    },
    {
      "cell_type": "markdown",
      "metadata": {
        "id": "HiheOhUkLkN0"
      },
      "source": []
    },
    {
      "cell_type": "markdown",
      "metadata": {
        "id": "2Uiq83uILkN0"
      },
      "source": [
        "NOTA: Se definió como target 1: 'Benignos' y target 0: 'Malignos'"
      ]
    },
    {
      "cell_type": "code",
      "execution_count": 4,
      "metadata": {
        "colab": {
          "base_uri": "https://localhost:8080/",
          "height": 270
        },
        "id": "kbcNoL8BLkN0",
        "outputId": "262aaf7a-8f3e-4687-d6c8-e15d70e163f0"
      },
      "outputs": [
        {
          "data": {
            "text/html": [
              "\n",
              "  <div id=\"df-a1c6c83e-1384-4b7e-b09e-b5e1c26526a4\" class=\"colab-df-container\">\n",
              "    <div>\n",
              "<style scoped>\n",
              "    .dataframe tbody tr th:only-of-type {\n",
              "        vertical-align: middle;\n",
              "    }\n",
              "\n",
              "    .dataframe tbody tr th {\n",
              "        vertical-align: top;\n",
              "    }\n",
              "\n",
              "    .dataframe thead th {\n",
              "        text-align: right;\n",
              "    }\n",
              "</style>\n",
              "<table border=\"1\" class=\"dataframe\">\n",
              "  <thead>\n",
              "    <tr style=\"text-align: right;\">\n",
              "      <th></th>\n",
              "      <th>mean radius</th>\n",
              "      <th>mean texture</th>\n",
              "      <th>mean perimeter</th>\n",
              "      <th>mean area</th>\n",
              "      <th>mean smoothness</th>\n",
              "      <th>mean compactness</th>\n",
              "      <th>mean concavity</th>\n",
              "      <th>mean concave points</th>\n",
              "      <th>mean symmetry</th>\n",
              "      <th>mean fractal dimension</th>\n",
              "      <th>...</th>\n",
              "      <th>worst texture</th>\n",
              "      <th>worst perimeter</th>\n",
              "      <th>worst area</th>\n",
              "      <th>worst smoothness</th>\n",
              "      <th>worst compactness</th>\n",
              "      <th>worst concavity</th>\n",
              "      <th>worst concave points</th>\n",
              "      <th>worst symmetry</th>\n",
              "      <th>worst fractal dimension</th>\n",
              "      <th>target</th>\n",
              "    </tr>\n",
              "  </thead>\n",
              "  <tbody>\n",
              "    <tr>\n",
              "      <th>0</th>\n",
              "      <td>17.99</td>\n",
              "      <td>10.38</td>\n",
              "      <td>122.80</td>\n",
              "      <td>1001.0</td>\n",
              "      <td>0.11840</td>\n",
              "      <td>0.27760</td>\n",
              "      <td>0.3001</td>\n",
              "      <td>0.14710</td>\n",
              "      <td>0.2419</td>\n",
              "      <td>0.07871</td>\n",
              "      <td>...</td>\n",
              "      <td>17.33</td>\n",
              "      <td>184.60</td>\n",
              "      <td>2019.0</td>\n",
              "      <td>0.1622</td>\n",
              "      <td>0.6656</td>\n",
              "      <td>0.7119</td>\n",
              "      <td>0.2654</td>\n",
              "      <td>0.4601</td>\n",
              "      <td>0.11890</td>\n",
              "      <td>0</td>\n",
              "    </tr>\n",
              "    <tr>\n",
              "      <th>1</th>\n",
              "      <td>20.57</td>\n",
              "      <td>17.77</td>\n",
              "      <td>132.90</td>\n",
              "      <td>1326.0</td>\n",
              "      <td>0.08474</td>\n",
              "      <td>0.07864</td>\n",
              "      <td>0.0869</td>\n",
              "      <td>0.07017</td>\n",
              "      <td>0.1812</td>\n",
              "      <td>0.05667</td>\n",
              "      <td>...</td>\n",
              "      <td>23.41</td>\n",
              "      <td>158.80</td>\n",
              "      <td>1956.0</td>\n",
              "      <td>0.1238</td>\n",
              "      <td>0.1866</td>\n",
              "      <td>0.2416</td>\n",
              "      <td>0.1860</td>\n",
              "      <td>0.2750</td>\n",
              "      <td>0.08902</td>\n",
              "      <td>0</td>\n",
              "    </tr>\n",
              "    <tr>\n",
              "      <th>2</th>\n",
              "      <td>19.69</td>\n",
              "      <td>21.25</td>\n",
              "      <td>130.00</td>\n",
              "      <td>1203.0</td>\n",
              "      <td>0.10960</td>\n",
              "      <td>0.15990</td>\n",
              "      <td>0.1974</td>\n",
              "      <td>0.12790</td>\n",
              "      <td>0.2069</td>\n",
              "      <td>0.05999</td>\n",
              "      <td>...</td>\n",
              "      <td>25.53</td>\n",
              "      <td>152.50</td>\n",
              "      <td>1709.0</td>\n",
              "      <td>0.1444</td>\n",
              "      <td>0.4245</td>\n",
              "      <td>0.4504</td>\n",
              "      <td>0.2430</td>\n",
              "      <td>0.3613</td>\n",
              "      <td>0.08758</td>\n",
              "      <td>0</td>\n",
              "    </tr>\n",
              "    <tr>\n",
              "      <th>3</th>\n",
              "      <td>11.42</td>\n",
              "      <td>20.38</td>\n",
              "      <td>77.58</td>\n",
              "      <td>386.1</td>\n",
              "      <td>0.14250</td>\n",
              "      <td>0.28390</td>\n",
              "      <td>0.2414</td>\n",
              "      <td>0.10520</td>\n",
              "      <td>0.2597</td>\n",
              "      <td>0.09744</td>\n",
              "      <td>...</td>\n",
              "      <td>26.50</td>\n",
              "      <td>98.87</td>\n",
              "      <td>567.7</td>\n",
              "      <td>0.2098</td>\n",
              "      <td>0.8663</td>\n",
              "      <td>0.6869</td>\n",
              "      <td>0.2575</td>\n",
              "      <td>0.6638</td>\n",
              "      <td>0.17300</td>\n",
              "      <td>0</td>\n",
              "    </tr>\n",
              "    <tr>\n",
              "      <th>4</th>\n",
              "      <td>20.29</td>\n",
              "      <td>14.34</td>\n",
              "      <td>135.10</td>\n",
              "      <td>1297.0</td>\n",
              "      <td>0.10030</td>\n",
              "      <td>0.13280</td>\n",
              "      <td>0.1980</td>\n",
              "      <td>0.10430</td>\n",
              "      <td>0.1809</td>\n",
              "      <td>0.05883</td>\n",
              "      <td>...</td>\n",
              "      <td>16.67</td>\n",
              "      <td>152.20</td>\n",
              "      <td>1575.0</td>\n",
              "      <td>0.1374</td>\n",
              "      <td>0.2050</td>\n",
              "      <td>0.4000</td>\n",
              "      <td>0.1625</td>\n",
              "      <td>0.2364</td>\n",
              "      <td>0.07678</td>\n",
              "      <td>0</td>\n",
              "    </tr>\n",
              "  </tbody>\n",
              "</table>\n",
              "<p>5 rows × 31 columns</p>\n",
              "</div>\n",
              "    <div class=\"colab-df-buttons\">\n",
              "\n",
              "  <div class=\"colab-df-container\">\n",
              "    <button class=\"colab-df-convert\" onclick=\"convertToInteractive('df-a1c6c83e-1384-4b7e-b09e-b5e1c26526a4')\"\n",
              "            title=\"Convert this dataframe to an interactive table.\"\n",
              "            style=\"display:none;\">\n",
              "\n",
              "  <svg xmlns=\"http://www.w3.org/2000/svg\" height=\"24px\" viewBox=\"0 -960 960 960\">\n",
              "    <path d=\"M120-120v-720h720v720H120Zm60-500h600v-160H180v160Zm220 220h160v-160H400v160Zm0 220h160v-160H400v160ZM180-400h160v-160H180v160Zm440 0h160v-160H620v160ZM180-180h160v-160H180v160Zm440 0h160v-160H620v160Z\"/>\n",
              "  </svg>\n",
              "    </button>\n",
              "\n",
              "  <style>\n",
              "    .colab-df-container {\n",
              "      display:flex;\n",
              "      gap: 12px;\n",
              "    }\n",
              "\n",
              "    .colab-df-convert {\n",
              "      background-color: #E8F0FE;\n",
              "      border: none;\n",
              "      border-radius: 50%;\n",
              "      cursor: pointer;\n",
              "      display: none;\n",
              "      fill: #1967D2;\n",
              "      height: 32px;\n",
              "      padding: 0 0 0 0;\n",
              "      width: 32px;\n",
              "    }\n",
              "\n",
              "    .colab-df-convert:hover {\n",
              "      background-color: #E2EBFA;\n",
              "      box-shadow: 0px 1px 2px rgba(60, 64, 67, 0.3), 0px 1px 3px 1px rgba(60, 64, 67, 0.15);\n",
              "      fill: #174EA6;\n",
              "    }\n",
              "\n",
              "    .colab-df-buttons div {\n",
              "      margin-bottom: 4px;\n",
              "    }\n",
              "\n",
              "    [theme=dark] .colab-df-convert {\n",
              "      background-color: #3B4455;\n",
              "      fill: #D2E3FC;\n",
              "    }\n",
              "\n",
              "    [theme=dark] .colab-df-convert:hover {\n",
              "      background-color: #434B5C;\n",
              "      box-shadow: 0px 1px 3px 1px rgba(0, 0, 0, 0.15);\n",
              "      filter: drop-shadow(0px 1px 2px rgba(0, 0, 0, 0.3));\n",
              "      fill: #FFFFFF;\n",
              "    }\n",
              "  </style>\n",
              "\n",
              "    <script>\n",
              "      const buttonEl =\n",
              "        document.querySelector('#df-a1c6c83e-1384-4b7e-b09e-b5e1c26526a4 button.colab-df-convert');\n",
              "      buttonEl.style.display =\n",
              "        google.colab.kernel.accessAllowed ? 'block' : 'none';\n",
              "\n",
              "      async function convertToInteractive(key) {\n",
              "        const element = document.querySelector('#df-a1c6c83e-1384-4b7e-b09e-b5e1c26526a4');\n",
              "        const dataTable =\n",
              "          await google.colab.kernel.invokeFunction('convertToInteractive',\n",
              "                                                    [key], {});\n",
              "        if (!dataTable) return;\n",
              "\n",
              "        const docLinkHtml = 'Like what you see? Visit the ' +\n",
              "          '<a target=\"_blank\" href=https://colab.research.google.com/notebooks/data_table.ipynb>data table notebook</a>'\n",
              "          + ' to learn more about interactive tables.';\n",
              "        element.innerHTML = '';\n",
              "        dataTable['output_type'] = 'display_data';\n",
              "        await google.colab.output.renderOutput(dataTable, element);\n",
              "        const docLink = document.createElement('div');\n",
              "        docLink.innerHTML = docLinkHtml;\n",
              "        element.appendChild(docLink);\n",
              "      }\n",
              "    </script>\n",
              "  </div>\n",
              "\n",
              "\n",
              "<div id=\"df-2e385df5-3803-4ff1-9fb5-43cefcb24917\">\n",
              "  <button class=\"colab-df-quickchart\" onclick=\"quickchart('df-2e385df5-3803-4ff1-9fb5-43cefcb24917')\"\n",
              "            title=\"Suggest charts.\"\n",
              "            style=\"display:none;\">\n",
              "\n",
              "<svg xmlns=\"http://www.w3.org/2000/svg\" height=\"24px\"viewBox=\"0 0 24 24\"\n",
              "     width=\"24px\">\n",
              "    <g>\n",
              "        <path d=\"M19 3H5c-1.1 0-2 .9-2 2v14c0 1.1.9 2 2 2h14c1.1 0 2-.9 2-2V5c0-1.1-.9-2-2-2zM9 17H7v-7h2v7zm4 0h-2V7h2v10zm4 0h-2v-4h2v4z\"/>\n",
              "    </g>\n",
              "</svg>\n",
              "  </button>\n",
              "\n",
              "<style>\n",
              "  .colab-df-quickchart {\n",
              "      --bg-color: #E8F0FE;\n",
              "      --fill-color: #1967D2;\n",
              "      --hover-bg-color: #E2EBFA;\n",
              "      --hover-fill-color: #174EA6;\n",
              "      --disabled-fill-color: #AAA;\n",
              "      --disabled-bg-color: #DDD;\n",
              "  }\n",
              "\n",
              "  [theme=dark] .colab-df-quickchart {\n",
              "      --bg-color: #3B4455;\n",
              "      --fill-color: #D2E3FC;\n",
              "      --hover-bg-color: #434B5C;\n",
              "      --hover-fill-color: #FFFFFF;\n",
              "      --disabled-bg-color: #3B4455;\n",
              "      --disabled-fill-color: #666;\n",
              "  }\n",
              "\n",
              "  .colab-df-quickchart {\n",
              "    background-color: var(--bg-color);\n",
              "    border: none;\n",
              "    border-radius: 50%;\n",
              "    cursor: pointer;\n",
              "    display: none;\n",
              "    fill: var(--fill-color);\n",
              "    height: 32px;\n",
              "    padding: 0;\n",
              "    width: 32px;\n",
              "  }\n",
              "\n",
              "  .colab-df-quickchart:hover {\n",
              "    background-color: var(--hover-bg-color);\n",
              "    box-shadow: 0 1px 2px rgba(60, 64, 67, 0.3), 0 1px 3px 1px rgba(60, 64, 67, 0.15);\n",
              "    fill: var(--button-hover-fill-color);\n",
              "  }\n",
              "\n",
              "  .colab-df-quickchart-complete:disabled,\n",
              "  .colab-df-quickchart-complete:disabled:hover {\n",
              "    background-color: var(--disabled-bg-color);\n",
              "    fill: var(--disabled-fill-color);\n",
              "    box-shadow: none;\n",
              "  }\n",
              "\n",
              "  .colab-df-spinner {\n",
              "    border: 2px solid var(--fill-color);\n",
              "    border-color: transparent;\n",
              "    border-bottom-color: var(--fill-color);\n",
              "    animation:\n",
              "      spin 1s steps(1) infinite;\n",
              "  }\n",
              "\n",
              "  @keyframes spin {\n",
              "    0% {\n",
              "      border-color: transparent;\n",
              "      border-bottom-color: var(--fill-color);\n",
              "      border-left-color: var(--fill-color);\n",
              "    }\n",
              "    20% {\n",
              "      border-color: transparent;\n",
              "      border-left-color: var(--fill-color);\n",
              "      border-top-color: var(--fill-color);\n",
              "    }\n",
              "    30% {\n",
              "      border-color: transparent;\n",
              "      border-left-color: var(--fill-color);\n",
              "      border-top-color: var(--fill-color);\n",
              "      border-right-color: var(--fill-color);\n",
              "    }\n",
              "    40% {\n",
              "      border-color: transparent;\n",
              "      border-right-color: var(--fill-color);\n",
              "      border-top-color: var(--fill-color);\n",
              "    }\n",
              "    60% {\n",
              "      border-color: transparent;\n",
              "      border-right-color: var(--fill-color);\n",
              "    }\n",
              "    80% {\n",
              "      border-color: transparent;\n",
              "      border-right-color: var(--fill-color);\n",
              "      border-bottom-color: var(--fill-color);\n",
              "    }\n",
              "    90% {\n",
              "      border-color: transparent;\n",
              "      border-bottom-color: var(--fill-color);\n",
              "    }\n",
              "  }\n",
              "</style>\n",
              "\n",
              "  <script>\n",
              "    async function quickchart(key) {\n",
              "      const quickchartButtonEl =\n",
              "        document.querySelector('#' + key + ' button');\n",
              "      quickchartButtonEl.disabled = true;  // To prevent multiple clicks.\n",
              "      quickchartButtonEl.classList.add('colab-df-spinner');\n",
              "      try {\n",
              "        const charts = await google.colab.kernel.invokeFunction(\n",
              "            'suggestCharts', [key], {});\n",
              "      } catch (error) {\n",
              "        console.error('Error during call to suggestCharts:', error);\n",
              "      }\n",
              "      quickchartButtonEl.classList.remove('colab-df-spinner');\n",
              "      quickchartButtonEl.classList.add('colab-df-quickchart-complete');\n",
              "    }\n",
              "    (() => {\n",
              "      let quickchartButtonEl =\n",
              "        document.querySelector('#df-2e385df5-3803-4ff1-9fb5-43cefcb24917 button');\n",
              "      quickchartButtonEl.style.display =\n",
              "        google.colab.kernel.accessAllowed ? 'block' : 'none';\n",
              "    })();\n",
              "  </script>\n",
              "</div>\n",
              "    </div>\n",
              "  </div>\n"
            ],
            "text/plain": [
              "   mean radius  mean texture  mean perimeter  mean area  mean smoothness  \\\n",
              "0        17.99         10.38          122.80     1001.0          0.11840   \n",
              "1        20.57         17.77          132.90     1326.0          0.08474   \n",
              "2        19.69         21.25          130.00     1203.0          0.10960   \n",
              "3        11.42         20.38           77.58      386.1          0.14250   \n",
              "4        20.29         14.34          135.10     1297.0          0.10030   \n",
              "\n",
              "   mean compactness  mean concavity  mean concave points  mean symmetry  \\\n",
              "0           0.27760          0.3001              0.14710         0.2419   \n",
              "1           0.07864          0.0869              0.07017         0.1812   \n",
              "2           0.15990          0.1974              0.12790         0.2069   \n",
              "3           0.28390          0.2414              0.10520         0.2597   \n",
              "4           0.13280          0.1980              0.10430         0.1809   \n",
              "\n",
              "   mean fractal dimension  ...  worst texture  worst perimeter  worst area  \\\n",
              "0                 0.07871  ...          17.33           184.60      2019.0   \n",
              "1                 0.05667  ...          23.41           158.80      1956.0   \n",
              "2                 0.05999  ...          25.53           152.50      1709.0   \n",
              "3                 0.09744  ...          26.50            98.87       567.7   \n",
              "4                 0.05883  ...          16.67           152.20      1575.0   \n",
              "\n",
              "   worst smoothness  worst compactness  worst concavity  worst concave points  \\\n",
              "0            0.1622             0.6656           0.7119                0.2654   \n",
              "1            0.1238             0.1866           0.2416                0.1860   \n",
              "2            0.1444             0.4245           0.4504                0.2430   \n",
              "3            0.2098             0.8663           0.6869                0.2575   \n",
              "4            0.1374             0.2050           0.4000                0.1625   \n",
              "\n",
              "   worst symmetry  worst fractal dimension  target  \n",
              "0          0.4601                  0.11890       0  \n",
              "1          0.2750                  0.08902       0  \n",
              "2          0.3613                  0.08758       0  \n",
              "3          0.6638                  0.17300       0  \n",
              "4          0.2364                  0.07678       0  \n",
              "\n",
              "[5 rows x 31 columns]"
            ]
          },
          "execution_count": 4,
          "metadata": {},
          "output_type": "execute_result"
        }
      ],
      "source": [
        "df_cancer.head()"
      ]
    },
    {
      "cell_type": "code",
      "execution_count": 5,
      "metadata": {
        "colab": {
          "base_uri": "https://localhost:8080/"
        },
        "id": "BT2WxI0ZLkN0",
        "outputId": "96e0c727-340c-4507-b4a3-d806f140c7aa"
      },
      "outputs": [
        {
          "name": "stdout",
          "output_type": "stream",
          "text": [
            "<class 'pandas.core.frame.DataFrame'>\n",
            "RangeIndex: 569 entries, 0 to 568\n",
            "Data columns (total 31 columns):\n",
            " #   Column                   Non-Null Count  Dtype  \n",
            "---  ------                   --------------  -----  \n",
            " 0   mean radius              569 non-null    float64\n",
            " 1   mean texture             569 non-null    float64\n",
            " 2   mean perimeter           569 non-null    float64\n",
            " 3   mean area                569 non-null    float64\n",
            " 4   mean smoothness          569 non-null    float64\n",
            " 5   mean compactness         569 non-null    float64\n",
            " 6   mean concavity           569 non-null    float64\n",
            " 7   mean concave points      569 non-null    float64\n",
            " 8   mean symmetry            569 non-null    float64\n",
            " 9   mean fractal dimension   569 non-null    float64\n",
            " 10  radius error             569 non-null    float64\n",
            " 11  texture error            569 non-null    float64\n",
            " 12  perimeter error          569 non-null    float64\n",
            " 13  area error               569 non-null    float64\n",
            " 14  smoothness error         569 non-null    float64\n",
            " 15  compactness error        569 non-null    float64\n",
            " 16  concavity error          569 non-null    float64\n",
            " 17  concave points error     569 non-null    float64\n",
            " 18  symmetry error           569 non-null    float64\n",
            " 19  fractal dimension error  569 non-null    float64\n",
            " 20  worst radius             569 non-null    float64\n",
            " 21  worst texture            569 non-null    float64\n",
            " 22  worst perimeter          569 non-null    float64\n",
            " 23  worst area               569 non-null    float64\n",
            " 24  worst smoothness         569 non-null    float64\n",
            " 25  worst compactness        569 non-null    float64\n",
            " 26  worst concavity          569 non-null    float64\n",
            " 27  worst concave points     569 non-null    float64\n",
            " 28  worst symmetry           569 non-null    float64\n",
            " 29  worst fractal dimension  569 non-null    float64\n",
            " 30  target                   569 non-null    int64  \n",
            "dtypes: float64(30), int64(1)\n",
            "memory usage: 137.9 KB\n"
          ]
        }
      ],
      "source": [
        "df_cancer.info()"
      ]
    },
    {
      "cell_type": "code",
      "execution_count": 6,
      "metadata": {
        "colab": {
          "base_uri": "https://localhost:8080/",
          "height": 384
        },
        "id": "EcnHts64LkN1",
        "outputId": "8218568d-9531-4958-8c1f-35a61ccef199"
      },
      "outputs": [
        {
          "data": {
            "text/html": [
              "\n",
              "  <div id=\"df-99ed7be3-3ff0-4fbc-8260-57d2423a8f8e\" class=\"colab-df-container\">\n",
              "    <div>\n",
              "<style scoped>\n",
              "    .dataframe tbody tr th:only-of-type {\n",
              "        vertical-align: middle;\n",
              "    }\n",
              "\n",
              "    .dataframe tbody tr th {\n",
              "        vertical-align: top;\n",
              "    }\n",
              "\n",
              "    .dataframe thead th {\n",
              "        text-align: right;\n",
              "    }\n",
              "</style>\n",
              "<table border=\"1\" class=\"dataframe\">\n",
              "  <thead>\n",
              "    <tr style=\"text-align: right;\">\n",
              "      <th></th>\n",
              "      <th>mean radius</th>\n",
              "      <th>mean texture</th>\n",
              "      <th>mean perimeter</th>\n",
              "      <th>mean area</th>\n",
              "      <th>mean smoothness</th>\n",
              "      <th>mean compactness</th>\n",
              "      <th>mean concavity</th>\n",
              "      <th>mean concave points</th>\n",
              "      <th>mean symmetry</th>\n",
              "      <th>mean fractal dimension</th>\n",
              "      <th>...</th>\n",
              "      <th>worst texture</th>\n",
              "      <th>worst perimeter</th>\n",
              "      <th>worst area</th>\n",
              "      <th>worst smoothness</th>\n",
              "      <th>worst compactness</th>\n",
              "      <th>worst concavity</th>\n",
              "      <th>worst concave points</th>\n",
              "      <th>worst symmetry</th>\n",
              "      <th>worst fractal dimension</th>\n",
              "      <th>target</th>\n",
              "    </tr>\n",
              "  </thead>\n",
              "  <tbody>\n",
              "    <tr>\n",
              "      <th>count</th>\n",
              "      <td>569.000000</td>\n",
              "      <td>569.000000</td>\n",
              "      <td>569.000000</td>\n",
              "      <td>569.000000</td>\n",
              "      <td>569.000000</td>\n",
              "      <td>569.000000</td>\n",
              "      <td>569.000000</td>\n",
              "      <td>569.000000</td>\n",
              "      <td>569.000000</td>\n",
              "      <td>569.000000</td>\n",
              "      <td>...</td>\n",
              "      <td>569.000000</td>\n",
              "      <td>569.000000</td>\n",
              "      <td>569.000000</td>\n",
              "      <td>569.000000</td>\n",
              "      <td>569.000000</td>\n",
              "      <td>569.000000</td>\n",
              "      <td>569.000000</td>\n",
              "      <td>569.000000</td>\n",
              "      <td>569.000000</td>\n",
              "      <td>569.000000</td>\n",
              "    </tr>\n",
              "    <tr>\n",
              "      <th>mean</th>\n",
              "      <td>14.127292</td>\n",
              "      <td>19.289649</td>\n",
              "      <td>91.969033</td>\n",
              "      <td>654.889104</td>\n",
              "      <td>0.096360</td>\n",
              "      <td>0.104341</td>\n",
              "      <td>0.088799</td>\n",
              "      <td>0.048919</td>\n",
              "      <td>0.181162</td>\n",
              "      <td>0.062798</td>\n",
              "      <td>...</td>\n",
              "      <td>25.677223</td>\n",
              "      <td>107.261213</td>\n",
              "      <td>880.583128</td>\n",
              "      <td>0.132369</td>\n",
              "      <td>0.254265</td>\n",
              "      <td>0.272188</td>\n",
              "      <td>0.114606</td>\n",
              "      <td>0.290076</td>\n",
              "      <td>0.083946</td>\n",
              "      <td>0.627417</td>\n",
              "    </tr>\n",
              "    <tr>\n",
              "      <th>std</th>\n",
              "      <td>3.524049</td>\n",
              "      <td>4.301036</td>\n",
              "      <td>24.298981</td>\n",
              "      <td>351.914129</td>\n",
              "      <td>0.014064</td>\n",
              "      <td>0.052813</td>\n",
              "      <td>0.079720</td>\n",
              "      <td>0.038803</td>\n",
              "      <td>0.027414</td>\n",
              "      <td>0.007060</td>\n",
              "      <td>...</td>\n",
              "      <td>6.146258</td>\n",
              "      <td>33.602542</td>\n",
              "      <td>569.356993</td>\n",
              "      <td>0.022832</td>\n",
              "      <td>0.157336</td>\n",
              "      <td>0.208624</td>\n",
              "      <td>0.065732</td>\n",
              "      <td>0.061867</td>\n",
              "      <td>0.018061</td>\n",
              "      <td>0.483918</td>\n",
              "    </tr>\n",
              "    <tr>\n",
              "      <th>min</th>\n",
              "      <td>6.981000</td>\n",
              "      <td>9.710000</td>\n",
              "      <td>43.790000</td>\n",
              "      <td>143.500000</td>\n",
              "      <td>0.052630</td>\n",
              "      <td>0.019380</td>\n",
              "      <td>0.000000</td>\n",
              "      <td>0.000000</td>\n",
              "      <td>0.106000</td>\n",
              "      <td>0.049960</td>\n",
              "      <td>...</td>\n",
              "      <td>12.020000</td>\n",
              "      <td>50.410000</td>\n",
              "      <td>185.200000</td>\n",
              "      <td>0.071170</td>\n",
              "      <td>0.027290</td>\n",
              "      <td>0.000000</td>\n",
              "      <td>0.000000</td>\n",
              "      <td>0.156500</td>\n",
              "      <td>0.055040</td>\n",
              "      <td>0.000000</td>\n",
              "    </tr>\n",
              "    <tr>\n",
              "      <th>25%</th>\n",
              "      <td>11.700000</td>\n",
              "      <td>16.170000</td>\n",
              "      <td>75.170000</td>\n",
              "      <td>420.300000</td>\n",
              "      <td>0.086370</td>\n",
              "      <td>0.064920</td>\n",
              "      <td>0.029560</td>\n",
              "      <td>0.020310</td>\n",
              "      <td>0.161900</td>\n",
              "      <td>0.057700</td>\n",
              "      <td>...</td>\n",
              "      <td>21.080000</td>\n",
              "      <td>84.110000</td>\n",
              "      <td>515.300000</td>\n",
              "      <td>0.116600</td>\n",
              "      <td>0.147200</td>\n",
              "      <td>0.114500</td>\n",
              "      <td>0.064930</td>\n",
              "      <td>0.250400</td>\n",
              "      <td>0.071460</td>\n",
              "      <td>0.000000</td>\n",
              "    </tr>\n",
              "    <tr>\n",
              "      <th>50%</th>\n",
              "      <td>13.370000</td>\n",
              "      <td>18.840000</td>\n",
              "      <td>86.240000</td>\n",
              "      <td>551.100000</td>\n",
              "      <td>0.095870</td>\n",
              "      <td>0.092630</td>\n",
              "      <td>0.061540</td>\n",
              "      <td>0.033500</td>\n",
              "      <td>0.179200</td>\n",
              "      <td>0.061540</td>\n",
              "      <td>...</td>\n",
              "      <td>25.410000</td>\n",
              "      <td>97.660000</td>\n",
              "      <td>686.500000</td>\n",
              "      <td>0.131300</td>\n",
              "      <td>0.211900</td>\n",
              "      <td>0.226700</td>\n",
              "      <td>0.099930</td>\n",
              "      <td>0.282200</td>\n",
              "      <td>0.080040</td>\n",
              "      <td>1.000000</td>\n",
              "    </tr>\n",
              "    <tr>\n",
              "      <th>75%</th>\n",
              "      <td>15.780000</td>\n",
              "      <td>21.800000</td>\n",
              "      <td>104.100000</td>\n",
              "      <td>782.700000</td>\n",
              "      <td>0.105300</td>\n",
              "      <td>0.130400</td>\n",
              "      <td>0.130700</td>\n",
              "      <td>0.074000</td>\n",
              "      <td>0.195700</td>\n",
              "      <td>0.066120</td>\n",
              "      <td>...</td>\n",
              "      <td>29.720000</td>\n",
              "      <td>125.400000</td>\n",
              "      <td>1084.000000</td>\n",
              "      <td>0.146000</td>\n",
              "      <td>0.339100</td>\n",
              "      <td>0.382900</td>\n",
              "      <td>0.161400</td>\n",
              "      <td>0.317900</td>\n",
              "      <td>0.092080</td>\n",
              "      <td>1.000000</td>\n",
              "    </tr>\n",
              "    <tr>\n",
              "      <th>max</th>\n",
              "      <td>28.110000</td>\n",
              "      <td>39.280000</td>\n",
              "      <td>188.500000</td>\n",
              "      <td>2501.000000</td>\n",
              "      <td>0.163400</td>\n",
              "      <td>0.345400</td>\n",
              "      <td>0.426800</td>\n",
              "      <td>0.201200</td>\n",
              "      <td>0.304000</td>\n",
              "      <td>0.097440</td>\n",
              "      <td>...</td>\n",
              "      <td>49.540000</td>\n",
              "      <td>251.200000</td>\n",
              "      <td>4254.000000</td>\n",
              "      <td>0.222600</td>\n",
              "      <td>1.058000</td>\n",
              "      <td>1.252000</td>\n",
              "      <td>0.291000</td>\n",
              "      <td>0.663800</td>\n",
              "      <td>0.207500</td>\n",
              "      <td>1.000000</td>\n",
              "    </tr>\n",
              "  </tbody>\n",
              "</table>\n",
              "<p>8 rows × 31 columns</p>\n",
              "</div>\n",
              "    <div class=\"colab-df-buttons\">\n",
              "\n",
              "  <div class=\"colab-df-container\">\n",
              "    <button class=\"colab-df-convert\" onclick=\"convertToInteractive('df-99ed7be3-3ff0-4fbc-8260-57d2423a8f8e')\"\n",
              "            title=\"Convert this dataframe to an interactive table.\"\n",
              "            style=\"display:none;\">\n",
              "\n",
              "  <svg xmlns=\"http://www.w3.org/2000/svg\" height=\"24px\" viewBox=\"0 -960 960 960\">\n",
              "    <path d=\"M120-120v-720h720v720H120Zm60-500h600v-160H180v160Zm220 220h160v-160H400v160Zm0 220h160v-160H400v160ZM180-400h160v-160H180v160Zm440 0h160v-160H620v160ZM180-180h160v-160H180v160Zm440 0h160v-160H620v160Z\"/>\n",
              "  </svg>\n",
              "    </button>\n",
              "\n",
              "  <style>\n",
              "    .colab-df-container {\n",
              "      display:flex;\n",
              "      gap: 12px;\n",
              "    }\n",
              "\n",
              "    .colab-df-convert {\n",
              "      background-color: #E8F0FE;\n",
              "      border: none;\n",
              "      border-radius: 50%;\n",
              "      cursor: pointer;\n",
              "      display: none;\n",
              "      fill: #1967D2;\n",
              "      height: 32px;\n",
              "      padding: 0 0 0 0;\n",
              "      width: 32px;\n",
              "    }\n",
              "\n",
              "    .colab-df-convert:hover {\n",
              "      background-color: #E2EBFA;\n",
              "      box-shadow: 0px 1px 2px rgba(60, 64, 67, 0.3), 0px 1px 3px 1px rgba(60, 64, 67, 0.15);\n",
              "      fill: #174EA6;\n",
              "    }\n",
              "\n",
              "    .colab-df-buttons div {\n",
              "      margin-bottom: 4px;\n",
              "    }\n",
              "\n",
              "    [theme=dark] .colab-df-convert {\n",
              "      background-color: #3B4455;\n",
              "      fill: #D2E3FC;\n",
              "    }\n",
              "\n",
              "    [theme=dark] .colab-df-convert:hover {\n",
              "      background-color: #434B5C;\n",
              "      box-shadow: 0px 1px 3px 1px rgba(0, 0, 0, 0.15);\n",
              "      filter: drop-shadow(0px 1px 2px rgba(0, 0, 0, 0.3));\n",
              "      fill: #FFFFFF;\n",
              "    }\n",
              "  </style>\n",
              "\n",
              "    <script>\n",
              "      const buttonEl =\n",
              "        document.querySelector('#df-99ed7be3-3ff0-4fbc-8260-57d2423a8f8e button.colab-df-convert');\n",
              "      buttonEl.style.display =\n",
              "        google.colab.kernel.accessAllowed ? 'block' : 'none';\n",
              "\n",
              "      async function convertToInteractive(key) {\n",
              "        const element = document.querySelector('#df-99ed7be3-3ff0-4fbc-8260-57d2423a8f8e');\n",
              "        const dataTable =\n",
              "          await google.colab.kernel.invokeFunction('convertToInteractive',\n",
              "                                                    [key], {});\n",
              "        if (!dataTable) return;\n",
              "\n",
              "        const docLinkHtml = 'Like what you see? Visit the ' +\n",
              "          '<a target=\"_blank\" href=https://colab.research.google.com/notebooks/data_table.ipynb>data table notebook</a>'\n",
              "          + ' to learn more about interactive tables.';\n",
              "        element.innerHTML = '';\n",
              "        dataTable['output_type'] = 'display_data';\n",
              "        await google.colab.output.renderOutput(dataTable, element);\n",
              "        const docLink = document.createElement('div');\n",
              "        docLink.innerHTML = docLinkHtml;\n",
              "        element.appendChild(docLink);\n",
              "      }\n",
              "    </script>\n",
              "  </div>\n",
              "\n",
              "\n",
              "<div id=\"df-00d9330c-a791-4d8d-9ef1-37c234ac6204\">\n",
              "  <button class=\"colab-df-quickchart\" onclick=\"quickchart('df-00d9330c-a791-4d8d-9ef1-37c234ac6204')\"\n",
              "            title=\"Suggest charts.\"\n",
              "            style=\"display:none;\">\n",
              "\n",
              "<svg xmlns=\"http://www.w3.org/2000/svg\" height=\"24px\"viewBox=\"0 0 24 24\"\n",
              "     width=\"24px\">\n",
              "    <g>\n",
              "        <path d=\"M19 3H5c-1.1 0-2 .9-2 2v14c0 1.1.9 2 2 2h14c1.1 0 2-.9 2-2V5c0-1.1-.9-2-2-2zM9 17H7v-7h2v7zm4 0h-2V7h2v10zm4 0h-2v-4h2v4z\"/>\n",
              "    </g>\n",
              "</svg>\n",
              "  </button>\n",
              "\n",
              "<style>\n",
              "  .colab-df-quickchart {\n",
              "      --bg-color: #E8F0FE;\n",
              "      --fill-color: #1967D2;\n",
              "      --hover-bg-color: #E2EBFA;\n",
              "      --hover-fill-color: #174EA6;\n",
              "      --disabled-fill-color: #AAA;\n",
              "      --disabled-bg-color: #DDD;\n",
              "  }\n",
              "\n",
              "  [theme=dark] .colab-df-quickchart {\n",
              "      --bg-color: #3B4455;\n",
              "      --fill-color: #D2E3FC;\n",
              "      --hover-bg-color: #434B5C;\n",
              "      --hover-fill-color: #FFFFFF;\n",
              "      --disabled-bg-color: #3B4455;\n",
              "      --disabled-fill-color: #666;\n",
              "  }\n",
              "\n",
              "  .colab-df-quickchart {\n",
              "    background-color: var(--bg-color);\n",
              "    border: none;\n",
              "    border-radius: 50%;\n",
              "    cursor: pointer;\n",
              "    display: none;\n",
              "    fill: var(--fill-color);\n",
              "    height: 32px;\n",
              "    padding: 0;\n",
              "    width: 32px;\n",
              "  }\n",
              "\n",
              "  .colab-df-quickchart:hover {\n",
              "    background-color: var(--hover-bg-color);\n",
              "    box-shadow: 0 1px 2px rgba(60, 64, 67, 0.3), 0 1px 3px 1px rgba(60, 64, 67, 0.15);\n",
              "    fill: var(--button-hover-fill-color);\n",
              "  }\n",
              "\n",
              "  .colab-df-quickchart-complete:disabled,\n",
              "  .colab-df-quickchart-complete:disabled:hover {\n",
              "    background-color: var(--disabled-bg-color);\n",
              "    fill: var(--disabled-fill-color);\n",
              "    box-shadow: none;\n",
              "  }\n",
              "\n",
              "  .colab-df-spinner {\n",
              "    border: 2px solid var(--fill-color);\n",
              "    border-color: transparent;\n",
              "    border-bottom-color: var(--fill-color);\n",
              "    animation:\n",
              "      spin 1s steps(1) infinite;\n",
              "  }\n",
              "\n",
              "  @keyframes spin {\n",
              "    0% {\n",
              "      border-color: transparent;\n",
              "      border-bottom-color: var(--fill-color);\n",
              "      border-left-color: var(--fill-color);\n",
              "    }\n",
              "    20% {\n",
              "      border-color: transparent;\n",
              "      border-left-color: var(--fill-color);\n",
              "      border-top-color: var(--fill-color);\n",
              "    }\n",
              "    30% {\n",
              "      border-color: transparent;\n",
              "      border-left-color: var(--fill-color);\n",
              "      border-top-color: var(--fill-color);\n",
              "      border-right-color: var(--fill-color);\n",
              "    }\n",
              "    40% {\n",
              "      border-color: transparent;\n",
              "      border-right-color: var(--fill-color);\n",
              "      border-top-color: var(--fill-color);\n",
              "    }\n",
              "    60% {\n",
              "      border-color: transparent;\n",
              "      border-right-color: var(--fill-color);\n",
              "    }\n",
              "    80% {\n",
              "      border-color: transparent;\n",
              "      border-right-color: var(--fill-color);\n",
              "      border-bottom-color: var(--fill-color);\n",
              "    }\n",
              "    90% {\n",
              "      border-color: transparent;\n",
              "      border-bottom-color: var(--fill-color);\n",
              "    }\n",
              "  }\n",
              "</style>\n",
              "\n",
              "  <script>\n",
              "    async function quickchart(key) {\n",
              "      const quickchartButtonEl =\n",
              "        document.querySelector('#' + key + ' button');\n",
              "      quickchartButtonEl.disabled = true;  // To prevent multiple clicks.\n",
              "      quickchartButtonEl.classList.add('colab-df-spinner');\n",
              "      try {\n",
              "        const charts = await google.colab.kernel.invokeFunction(\n",
              "            'suggestCharts', [key], {});\n",
              "      } catch (error) {\n",
              "        console.error('Error during call to suggestCharts:', error);\n",
              "      }\n",
              "      quickchartButtonEl.classList.remove('colab-df-spinner');\n",
              "      quickchartButtonEl.classList.add('colab-df-quickchart-complete');\n",
              "    }\n",
              "    (() => {\n",
              "      let quickchartButtonEl =\n",
              "        document.querySelector('#df-00d9330c-a791-4d8d-9ef1-37c234ac6204 button');\n",
              "      quickchartButtonEl.style.display =\n",
              "        google.colab.kernel.accessAllowed ? 'block' : 'none';\n",
              "    })();\n",
              "  </script>\n",
              "</div>\n",
              "    </div>\n",
              "  </div>\n"
            ],
            "text/plain": [
              "       mean radius  mean texture  mean perimeter    mean area  \\\n",
              "count   569.000000    569.000000      569.000000   569.000000   \n",
              "mean     14.127292     19.289649       91.969033   654.889104   \n",
              "std       3.524049      4.301036       24.298981   351.914129   \n",
              "min       6.981000      9.710000       43.790000   143.500000   \n",
              "25%      11.700000     16.170000       75.170000   420.300000   \n",
              "50%      13.370000     18.840000       86.240000   551.100000   \n",
              "75%      15.780000     21.800000      104.100000   782.700000   \n",
              "max      28.110000     39.280000      188.500000  2501.000000   \n",
              "\n",
              "       mean smoothness  mean compactness  mean concavity  mean concave points  \\\n",
              "count       569.000000        569.000000      569.000000           569.000000   \n",
              "mean          0.096360          0.104341        0.088799             0.048919   \n",
              "std           0.014064          0.052813        0.079720             0.038803   \n",
              "min           0.052630          0.019380        0.000000             0.000000   \n",
              "25%           0.086370          0.064920        0.029560             0.020310   \n",
              "50%           0.095870          0.092630        0.061540             0.033500   \n",
              "75%           0.105300          0.130400        0.130700             0.074000   \n",
              "max           0.163400          0.345400        0.426800             0.201200   \n",
              "\n",
              "       mean symmetry  mean fractal dimension  ...  worst texture  \\\n",
              "count     569.000000              569.000000  ...     569.000000   \n",
              "mean        0.181162                0.062798  ...      25.677223   \n",
              "std         0.027414                0.007060  ...       6.146258   \n",
              "min         0.106000                0.049960  ...      12.020000   \n",
              "25%         0.161900                0.057700  ...      21.080000   \n",
              "50%         0.179200                0.061540  ...      25.410000   \n",
              "75%         0.195700                0.066120  ...      29.720000   \n",
              "max         0.304000                0.097440  ...      49.540000   \n",
              "\n",
              "       worst perimeter   worst area  worst smoothness  worst compactness  \\\n",
              "count       569.000000   569.000000        569.000000         569.000000   \n",
              "mean        107.261213   880.583128          0.132369           0.254265   \n",
              "std          33.602542   569.356993          0.022832           0.157336   \n",
              "min          50.410000   185.200000          0.071170           0.027290   \n",
              "25%          84.110000   515.300000          0.116600           0.147200   \n",
              "50%          97.660000   686.500000          0.131300           0.211900   \n",
              "75%         125.400000  1084.000000          0.146000           0.339100   \n",
              "max         251.200000  4254.000000          0.222600           1.058000   \n",
              "\n",
              "       worst concavity  worst concave points  worst symmetry  \\\n",
              "count       569.000000            569.000000      569.000000   \n",
              "mean          0.272188              0.114606        0.290076   \n",
              "std           0.208624              0.065732        0.061867   \n",
              "min           0.000000              0.000000        0.156500   \n",
              "25%           0.114500              0.064930        0.250400   \n",
              "50%           0.226700              0.099930        0.282200   \n",
              "75%           0.382900              0.161400        0.317900   \n",
              "max           1.252000              0.291000        0.663800   \n",
              "\n",
              "       worst fractal dimension      target  \n",
              "count               569.000000  569.000000  \n",
              "mean                  0.083946    0.627417  \n",
              "std                   0.018061    0.483918  \n",
              "min                   0.055040    0.000000  \n",
              "25%                   0.071460    0.000000  \n",
              "50%                   0.080040    1.000000  \n",
              "75%                   0.092080    1.000000  \n",
              "max                   0.207500    1.000000  \n",
              "\n",
              "[8 rows x 31 columns]"
            ]
          },
          "execution_count": 6,
          "metadata": {},
          "output_type": "execute_result"
        }
      ],
      "source": [
        "df_cancer.describe()"
      ]
    },
    {
      "cell_type": "markdown",
      "metadata": {
        "id": "tFMESnukIw0r"
      },
      "source": [
        "### Definiendo los features y target"
      ]
    },
    {
      "cell_type": "code",
      "execution_count": 7,
      "metadata": {
        "id": "srykOrndIw0r"
      },
      "outputs": [],
      "source": [
        "X = df_cancer.drop(columns=['target'])\n",
        "y=df_cancer['target']"
      ]
    },
    {
      "cell_type": "markdown",
      "metadata": {
        "id": "TfL9QgrrIw0r"
      },
      "source": [
        "### Escalando los features numéricos"
      ]
    },
    {
      "cell_type": "code",
      "execution_count": 8,
      "metadata": {
        "id": "sg3TQWFfIw0r"
      },
      "outputs": [],
      "source": [
        "minmax_scaler = MinMaxScaler()\n",
        "X = minmax_scaler.fit_transform(X)"
      ]
    },
    {
      "cell_type": "markdown",
      "metadata": {
        "id": "zX9nJ4F4Iw0r"
      },
      "source": [
        "### Dividir el dataset en train y test:"
      ]
    },
    {
      "cell_type": "code",
      "execution_count": 9,
      "metadata": {
        "id": "oxhAD1sVIw0r"
      },
      "outputs": [],
      "source": [
        "X_train, X_test, y_train, y_test = train_test_split(\n",
        "    X, y, test_size=0.45, random_state=83)"
      ]
    },
    {
      "cell_type": "markdown",
      "metadata": {
        "id": "Zh_-n7HYIw0r"
      },
      "source": [
        "## Algoritmo Naive Bayes:\n",
        "- En este caso, se utilizó el modelo Gaussian Naive Bayes, el cual se utiliza en presencia de características o features de valores continuos."
      ]
    },
    {
      "cell_type": "code",
      "execution_count": 10,
      "metadata": {
        "id": "iRz9F-1kIw0s"
      },
      "outputs": [],
      "source": [
        "model = GaussianNB()\n",
        "model.fit(X_train, y_train);"
      ]
    },
    {
      "cell_type": "code",
      "execution_count": 11,
      "metadata": {
        "id": "tyc9BhrdIw0s"
      },
      "outputs": [],
      "source": [
        "# predicción\n",
        "y_GaussianNB_train_data = model.predict(X_train)"
      ]
    },
    {
      "cell_type": "code",
      "execution_count": 56,
      "metadata": {
        "colab": {
          "base_uri": "https://localhost:8080/",
          "height": 499
        },
        "id": "z2hcbhTxIw0s",
        "outputId": "e8fcd821-8ecd-4dc9-863c-63a7557d309c"
      },
      "outputs": [
        {
          "data": {
            "text/plain": [
              "Text(0.5, 1.0, 'Matriz de Confusión de y_train vs y_GaussianNB_train_data')"
            ]
          },
          "execution_count": 56,
          "metadata": {},
          "output_type": "execute_result"
        },
        {
          "data": {
            "image/png": "[encoded data removed]",
            "text/plain": [
              "<Figure size 640x480 with 1 Axes>"
            ]
          },
          "metadata": {},
          "output_type": "display_data"
        }
      ],
      "source": [
        "mat = confusion_matrix(y_train, y_GaussianNB_train_data)\n",
        "sns.heatmap(mat.T, square=True, annot=True, fmt='d', cbar=False,\n",
        "            xticklabels=load_breast_cancer().target_names, yticklabels=load_breast_cancer().target_names)\n",
        "plt.xlabel('true label')\n",
        "plt.ylabel('predicted label (LDA)')\n",
        "plt.title('Matriz de Confusión de y_train vs y_GaussianNB_train_data')"
      ]
    },
    {
      "cell_type": "markdown",
      "metadata": {
        "id": "Q9iMsjmWLkN2"
      },
      "source": [
        "Según la matriz de confusión que se observa, relacionada a la data de entrenamiento, se identifican 12 registros de cancer maligno que han sido catalogados incorrectamente como benignos. Esta situación es particularmente preocupante, ya que estos diagnósticos erróneos podrían llevar a que los pacientes afectados no reciban tratamiento."
      ]
    },
    {
      "cell_type": "code",
      "execution_count": 13,
      "metadata": {
        "id": "Ln86ViNiIw0s"
      },
      "outputs": [],
      "source": [
        "accuracy_train_NB=accuracy_score(y_train,y_GaussianNB_train_data )\n"
      ]
    },
    {
      "cell_type": "code",
      "execution_count": 54,
      "metadata": {
        "colab": {
          "base_uri": "https://localhost:8080/"
        },
        "id": "9Qu4g1GFIw0s",
        "outputId": "d7797c4f-b586-4009-f887-b487bb81e607"
      },
      "outputs": [
        {
          "data": {
            "text/plain": [
              "0.945273631840796"
            ]
          },
          "execution_count": 54,
          "metadata": {},
          "output_type": "execute_result"
        }
      ],
      "source": [
        "recall_train_NB=recall_score(y_train,y_GaussianNB_train_data )\n",
        "recall_train_NB"
      ]
    },
    {
      "cell_type": "code",
      "execution_count": 15,
      "metadata": {
        "id": "uVItuFCCIw0s"
      },
      "outputs": [],
      "source": [
        "precision_train_NB=precision_score(y_train,y_GaussianNB_train_data )\n"
      ]
    },
    {
      "cell_type": "code",
      "execution_count": 16,
      "metadata": {
        "id": "GwkBRySsIw0s"
      },
      "outputs": [],
      "source": [
        "f1_train_NB=f1_score(y_train,y_GaussianNB_train_data )"
      ]
    },
    {
      "cell_type": "code",
      "execution_count": 17,
      "metadata": {
        "id": "n_h20m8eLkN2"
      },
      "outputs": [],
      "source": [
        "#Especificidad:\n",
        "y_real = y_train\n",
        "y_pred = y_GaussianNB_train_data\n",
        "\n",
        "def specificity_score(y_true, y_pred):\n",
        "    # Calcula la matriz de confusión\n",
        "    tn, fp, fn, tp = confusion_matrix(y_real, y_pred).ravel()\n",
        "\n",
        "    # Calcula la especificidad\n",
        "    specificity = tn / (tn + fp)\n",
        "\n",
        "    return specificity\n"
      ]
    },
    {
      "cell_type": "code",
      "execution_count": 18,
      "metadata": {
        "colab": {
          "base_uri": "https://localhost:8080/"
        },
        "id": "-7hsvCN1LkN2",
        "outputId": "bbe7eecf-457e-46a5-84a3-8fdc0a3fab10"
      },
      "outputs": [
        {
          "name": "stdout",
          "output_type": "stream",
          "text": [
            "Especificidad en el conjunto de datos de cáncer de mama: 0.8918918918918919\n"
          ]
        }
      ],
      "source": [
        "\n",
        "# Calcula la especificidad utilizando la función personalizada\n",
        "specificity = specificity_score(y_real, y_pred)\n",
        "\n",
        "print(\"Especificidad en el conjunto de datos de cáncer de mama:\", specificity)\n"
      ]
    },
    {
      "cell_type": "code",
      "execution_count": 19,
      "metadata": {
        "colab": {
          "base_uri": "https://localhost:8080/"
        },
        "id": "UaTvpOTOLkN2",
        "outputId": "7a8e9f8c-4781-4a8a-f886-40e59dca40ab"
      },
      "outputs": [
        {
          "name": "stdout",
          "output_type": "stream",
          "text": [
            "Especificidad: 0.8333333333333334\n"
          ]
        }
      ],
      "source": [
        "\n",
        "# Supongamos que tienes tus etiquetas reales y predicciones\n",
        "y_real = [0, 1, 0, 1, 0, 0, 1, 0, 0, 1]\n",
        "y_pred = [0, 1, 0, 0, 0, 1, 1, 0, 0, 0]\n",
        "\n",
        "# Calcula la matriz de confusión\n",
        "confusion = confusion_matrix(y_real, y_pred)\n",
        "\n",
        "# Extrae los valores de la matriz de confusión\n",
        "tn, fp, fn, tp = confusion.ravel()\n",
        "\n",
        "# Calcula la especificidad\n",
        "specificity = tn / (tn + fp)\n",
        "\n",
        "print(\"Especificidad:\", specificity)\n"
      ]
    },
    {
      "cell_type": "code",
      "execution_count": 20,
      "metadata": {
        "id": "D4k-H-hfIw0t"
      },
      "outputs": [],
      "source": [
        "\n",
        "y_GaussianNB_test_data  = model.predict(X_test)"
      ]
    },
    {
      "cell_type": "code",
      "execution_count": 21,
      "metadata": {
        "colab": {
          "base_uri": "https://localhost:8080/",
          "height": 499
        },
        "id": "97Htfkd-Iw0t",
        "outputId": "a30950b5-f866-45d9-c8b3-d2724114b73d"
      },
      "outputs": [
        {
          "data": {
            "text/plain": [
              "Text(0.5, 1.0, 'Matriz de Confusión de y_test vs y_GaussianNB_test_data')"
            ]
          },
          "execution_count": 21,
          "metadata": {},
          "output_type": "execute_result"
        },
        {
          "data": {
            "image/png": "[encoded data removed]",
            "text/plain": [
              "<Figure size 640x480 with 1 Axes>"
            ]
          },
          "metadata": {},
          "output_type": "display_data"
        }
      ],
      "source": [
        "mat = confusion_matrix(y_test, y_GaussianNB_test_data)\n",
        "sns.heatmap(mat.T, square=True, annot=True, fmt='d', cbar=False,\n",
        "            xticklabels=load_breast_cancer().target_names, yticklabels=load_breast_cancer().target_names)\n",
        "plt.xlabel('true label')\n",
        "plt.ylabel('predicted label (GaussianNB)')\n",
        "plt.title('Matriz de Confusión de y_test vs y_GaussianNB_test_data')"
      ]
    },
    {
      "cell_type": "code",
      "execution_count": 22,
      "metadata": {
        "colab": {
          "base_uri": "https://localhost:8080/",
          "height": 499
        },
        "id": "c9J5w-a7LkN3",
        "outputId": "13401695-3f8c-4f82-d3a6-9d1fbc07ce46"
      },
      "outputs": [
        {
          "data": {
            "text/plain": [
              "Text(0.5, 1.0, 'Matriz de Confusión de y_test vs y_GaussianNB_test_data')"
            ]
          },
          "execution_count": 22,
          "metadata": {},
          "output_type": "execute_result"
        },
        {
          "data": {
            "image/png": "[encoded data removed]",
            "text/plain": [
              "<Figure size 640x480 with 1 Axes>"
            ]
          },
          "metadata": {},
          "output_type": "display_data"
        }
      ],
      "source": [
        "mat = confusion_matrix(y_test, y_GaussianNB_test_data)\n",
        "sns.heatmap(mat,square=True, annot=True, fmt='d', cbar=False,\n",
        "            xticklabels=load_breast_cancer().target_names, yticklabels=load_breast_cancer().target_names)\n",
        "plt.xlabel('true label')\n",
        "plt.ylabel('predicted label (GaussianNB)')\n",
        "plt.title('Matriz de Confusión de y_test vs y_GaussianNB_test_data')"
      ]
    },
    {
      "cell_type": "markdown",
      "metadata": {
        "id": "5mEou-q8LkN3"
      },
      "source": [
        "Según la matriz de confusión que se observa, relacionada a la data de testeo, se identifican 09 registros de cancer maligno que han sido catalogados incorrectamente como benignos. Al igual que el modelo sobre la data de entrenamiento, sigue siendo preocupante, ya que estos diagnósticos erróneos podrían llevar a que los pacientes afectados no reciban tratamiento."
      ]
    },
    {
      "cell_type": "code",
      "execution_count": 23,
      "metadata": {
        "colab": {
          "base_uri": "https://localhost:8080/"
        },
        "id": "4u1WSnBGIw0t",
        "outputId": "80586c98-fa79-4561-bbae-6f59ee0eee18"
      },
      "outputs": [
        {
          "data": {
            "text/plain": [
              "array([[1.00000000e+00, 4.07952121e-42],\n",
              "       [1.00000000e+00, 7.02274363e-92],\n",
              "       [1.37063606e-11, 1.00000000e+00],\n",
              "       [5.60609480e-14, 1.00000000e+00],\n",
              "       [2.40369636e-05, 9.99975963e-01]])"
            ]
          },
          "execution_count": 23,
          "metadata": {},
          "output_type": "execute_result"
        }
      ],
      "source": [
        "model.predict_proba(X_test)[:5]\n"
      ]
    },
    {
      "cell_type": "code",
      "execution_count": 24,
      "metadata": {
        "id": "03mqNryiIw0t"
      },
      "outputs": [],
      "source": [
        "accuracy_test_NB=accuracy_score(y_test,y_GaussianNB_test_data)"
      ]
    },
    {
      "cell_type": "code",
      "execution_count": 25,
      "metadata": {
        "id": "SW6FdCCSIw0x"
      },
      "outputs": [],
      "source": [
        "recall_test_NB=recall_score(y_test,y_GaussianNB_test_data)"
      ]
    },
    {
      "cell_type": "code",
      "execution_count": 26,
      "metadata": {
        "id": "5mBPBVhBIw0x"
      },
      "outputs": [],
      "source": [
        "precision_test_NB=precision_score(y_test,y_GaussianNB_test_data)"
      ]
    },
    {
      "cell_type": "code",
      "execution_count": 27,
      "metadata": {
        "id": "k-q78wG5Iw0x"
      },
      "outputs": [],
      "source": [
        "f1_score_test_NB=f1_score(y_test,y_GaussianNB_test_data)"
      ]
    },
    {
      "cell_type": "code",
      "execution_count": 28,
      "metadata": {
        "colab": {
          "base_uri": "https://localhost:8080/"
        },
        "id": "5myBJqvgLkN3",
        "outputId": "3050a540-1b67-4e6c-8d82-5082181f5e4c"
      },
      "outputs": [
        {
          "name": "stdout",
          "output_type": "stream",
          "text": [
            "Especificidad en el conjunto de datos de test de cáncer de mama: 0.9108910891089109\n"
          ]
        }
      ],
      "source": [
        "#Especificidad:\n",
        "y_real = y_test\n",
        "y_pred = y_GaussianNB_test_data\n",
        "\n",
        "# Calcula la especificidad utilizando la función personalizada\n",
        "specificity = specificity_score(y_real, y_pred)\n",
        "\n",
        "print(\"Especificidad en el conjunto de datos de test de cáncer de mama:\", specificity)"
      ]
    },
    {
      "cell_type": "code",
      "execution_count": 29,
      "metadata": {
        "colab": {
          "base_uri": "https://localhost:8080/"
        },
        "id": "yC-agk81LkN4",
        "outputId": "603dd58e-b3cb-488c-9207-00471c0380d1"
      },
      "outputs": [
        {
          "name": "stdout",
          "output_type": "stream",
          "text": [
            "      Metric  GaussianNaive Bayes (Training Data)  \\\n",
            "0   Accuracy                             0.926282   \n",
            "1     Recall                             0.945274   \n",
            "2  Precision                             0.940594   \n",
            "3   F1 Score                             0.942928   \n",
            "\n",
            "   Gaussian Naive Bayes (Test Data)  \n",
            "0                          0.929961  \n",
            "1                          0.942308  \n",
            "2                          0.942308  \n",
            "3                          0.942308  \n"
          ]
        }
      ],
      "source": [
        "# Tabla comparativa:\n",
        "metrics = {\n",
        "    'Metric': ['Accuracy', 'Recall', 'Precision', 'F1 Score'],\n",
        "    'GaussianNaive Bayes (Training Data)': [accuracy_train_NB, recall_train_NB, precision_train_NB, f1_train_NB],\n",
        "    'Gaussian Naive Bayes (Test Data)': [accuracy_test_NB, recall_test_NB, precision_test_NB, f1_score_test_NB]\n",
        "}\n",
        "\n",
        "metrics_df = pd.DataFrame(metrics)\n",
        "print(metrics_df)"
      ]
    },
    {
      "cell_type": "markdown",
      "metadata": {
        "id": "ac-CiVZfIw0x"
      },
      "source": [
        "### Algoritmo Análisis de Discriminante (LDA)"
      ]
    },
    {
      "cell_type": "code",
      "execution_count": 30,
      "metadata": {
        "id": "LfjSQ4baIw0y"
      },
      "outputs": [],
      "source": [
        "\n",
        "model = LDA()\n",
        "model.fit(X_train,y_train);\n",
        "\n"
      ]
    },
    {
      "cell_type": "markdown",
      "metadata": {
        "id": "_Ot3luEoLkN4"
      },
      "source": [
        "#### LDA en data de entrenamiento"
      ]
    },
    {
      "cell_type": "code",
      "execution_count": 31,
      "metadata": {
        "id": "GeAl3SH_Iw0y"
      },
      "outputs": [],
      "source": [
        "\n",
        "y_LDA_train_data = model.predict(X_train)"
      ]
    },
    {
      "cell_type": "markdown",
      "metadata": {
        "id": "pRlp5Y7PIw0y"
      },
      "source": [
        "### Matriz de Confusión y_train vs y_train_predicted (LDA)"
      ]
    },
    {
      "cell_type": "code",
      "execution_count": 32,
      "metadata": {
        "colab": {
          "base_uri": "https://localhost:8080/",
          "height": 499
        },
        "id": "eOsJDMiiLkN4",
        "outputId": "fa82220c-ad54-4059-811e-5dc34fd12cfd"
      },
      "outputs": [
        {
          "data": {
            "text/plain": [
              "Text(0.5, 1.0, 'Matriz de Confusión de y_train vs y_train_predicted LDA')"
            ]
          },
          "execution_count": 32,
          "metadata": {},
          "output_type": "execute_result"
        },
        {
          "data": {
            "image/png": "[encoded data removed]",
            "text/plain": [
              "<Figure size 640x480 with 1 Axes>"
            ]
          },
          "metadata": {},
          "output_type": "display_data"
        }
      ],
      "source": [
        "mat = confusion_matrix(y_train, y_LDA_train_data)\n",
        "sns.heatmap(mat.T, square=True, annot=True, fmt='d', cbar=False,\n",
        "            xticklabels=load_breast_cancer().target_names, yticklabels=load_breast_cancer().target_names)\n",
        "plt.xlabel('true label')\n",
        "plt.ylabel('predicted label (LDA)')\n",
        "plt.title('Matriz de Confusión de y_train vs y_train_predicted LDA')"
      ]
    },
    {
      "cell_type": "markdown",
      "metadata": {
        "id": "fvVaGoFTLkN4"
      },
      "source": [
        "Según la matriz de confusión que se observa, relacionada a la data de entrenamiento, se identifican 10 registros de cancer maligno que han sido catalogados incorrectamente como benignos. Esta predicción es preocupante, ya que estos diagnósticos erróneos podrían llevar a que los pacientes afectados no reciban tratamiento."
      ]
    },
    {
      "cell_type": "code",
      "execution_count": 33,
      "metadata": {
        "id": "3us7maMWIw0y"
      },
      "outputs": [],
      "source": [
        "accuracy_train_LDA=accuracy_score(y_train,y_LDA_train_data)\n",
        "recall_train_LDA=recall_score(y_train,y_LDA_train_data)\n",
        "precision_train_LDA=precision_score(y_train,y_LDA_train_data)\n",
        "f1_score_train_LDA=f1_score(y_train,y_LDA_train_data)"
      ]
    },
    {
      "cell_type": "code",
      "execution_count": 34,
      "metadata": {
        "colab": {
          "base_uri": "https://localhost:8080/"
        },
        "id": "PriN6MB4LkN4",
        "outputId": "9b920dbb-a7d8-46d2-d693-2120f42e9b33"
      },
      "outputs": [
        {
          "name": "stdout",
          "output_type": "stream",
          "text": [
            "Especificidad en el conjunto de datos de entrenamiento de cáncer de mama: 0.9099099099099099\n"
          ]
        }
      ],
      "source": [
        "#Especificidad:\n",
        "y_real = y_train\n",
        "y_pred = y_LDA_train_data\n",
        "\n",
        "# Calcula la especificidad utilizando la función personalizada\n",
        "specificity = specificity_score(y_real, y_pred)\n",
        "\n",
        "print(\"Especificidad en el conjunto de datos de entrenamiento de cáncer de mama:\", specificity)"
      ]
    },
    {
      "cell_type": "code",
      "execution_count": 35,
      "metadata": {
        "id": "0sGgBMWXIw0z"
      },
      "outputs": [],
      "source": [
        "#Predecir los labels de clase con los datos de prueba (X_test)\n",
        "y_LDA_test_data  = model.predict(X_test)"
      ]
    },
    {
      "cell_type": "markdown",
      "metadata": {
        "id": "c-2CKKMhIw0z"
      },
      "source": [
        "### Matriz de Confusión (y test vs y_test_predicted LDA)"
      ]
    },
    {
      "cell_type": "code",
      "execution_count": 36,
      "metadata": {
        "colab": {
          "base_uri": "https://localhost:8080/",
          "height": 499
        },
        "id": "jutJ29x7Iw0z",
        "outputId": "e71448f1-c487-4d7a-bcda-1345cfd4f9a4"
      },
      "outputs": [
        {
          "data": {
            "text/plain": [
              "Text(0.5, 1.0, 'Matriz de Confusión de y_test vs y_test_predicted LDA')"
            ]
          },
          "execution_count": 36,
          "metadata": {},
          "output_type": "execute_result"
        },
        {
          "data": {
            "image/png": "[encoded data removed]",
            "text/plain": [
              "<Figure size 640x480 with 1 Axes>"
            ]
          },
          "metadata": {},
          "output_type": "display_data"
        }
      ],
      "source": [
        "mat = confusion_matrix(y_test, y_LDA_test_data)\n",
        "sns.heatmap(mat.T, square=True, annot=True, fmt='d', cbar=False,\n",
        "            xticklabels=load_breast_cancer().target_names, yticklabels=load_breast_cancer().target_names)\n",
        "plt.xlabel('true label')\n",
        "plt.ylabel('predicted label (LDA)')\n",
        "plt.title('Matriz de Confusión de y_test vs y_test_predicted LDA')"
      ]
    },
    {
      "cell_type": "markdown",
      "metadata": {
        "id": "7hlOlqK9LkN5"
      },
      "source": [
        "Según la matriz de confusión que se observa, relacionada a la data de testeo, se identifican 10 registros de cancer maligno que han sido catalogados incorrectamente como benignos. Al igual que el modelo sobre la data de entrenamiento, sigue siendo preocupante, ya que estos diagnósticos erróneos podrían llevar a que los pacientes afectados no reciban tratamiento."
      ]
    },
    {
      "cell_type": "code",
      "execution_count": 37,
      "metadata": {
        "colab": {
          "base_uri": "https://localhost:8080/"
        },
        "id": "MYRW5dSfIw00",
        "outputId": "93d44323-7671-45fc-e995-75f5efeba46c"
      },
      "outputs": [
        {
          "data": {
            "text/plain": [
              "array([[3.61748040e-02, 9.63825196e-01],\n",
              "       [9.99998733e-01, 1.26707060e-06],\n",
              "       [2.58355884e-05, 9.99974164e-01],\n",
              "       [1.44292305e-08, 9.99999986e-01],\n",
              "       [2.90477281e-03, 9.97095227e-01]])"
            ]
          },
          "execution_count": 37,
          "metadata": {},
          "output_type": "execute_result"
        }
      ],
      "source": [
        "model.predict_proba(X_test)[:5]"
      ]
    },
    {
      "cell_type": "code",
      "execution_count": 38,
      "metadata": {
        "id": "d_FTVBKxIw00"
      },
      "outputs": [],
      "source": [
        "accuracy_test_LDA=accuracy_score(y_test,y_LDA_test_data)\n",
        "recall_test_LDA=recall_score(y_test,y_LDA_test_data)\n",
        "precision_test_LDA=precision_score(y_test,y_LDA_test_data)\n",
        "f1_score_test_LDA=f1_score(y_test,y_LDA_test_data)"
      ]
    },
    {
      "cell_type": "code",
      "execution_count": 39,
      "metadata": {
        "colab": {
          "base_uri": "https://localhost:8080/"
        },
        "id": "sV48lC3cLkN5",
        "outputId": "f18a21e2-912d-4941-fe7c-16130be8c663"
      },
      "outputs": [
        {
          "name": "stdout",
          "output_type": "stream",
          "text": [
            "Especificidad en el conjunto de datos de testeo de cáncer de mama: 0.900990099009901\n"
          ]
        }
      ],
      "source": [
        "#Especificidad:\n",
        "y_real = y_test\n",
        "y_pred = y_LDA_test_data\n",
        "\n",
        "# Calcula la especificidad utilizando la función personalizada\n",
        "specificity = specificity_score(y_real, y_pred)\n",
        "\n",
        "print(\"Especificidad en el conjunto de datos de testeo de cáncer de mama:\", specificity)"
      ]
    },
    {
      "cell_type": "code",
      "execution_count": 40,
      "metadata": {
        "colab": {
          "base_uri": "https://localhost:8080/"
        },
        "id": "tUN52nFALkN5",
        "outputId": "4a3f0666-6cca-4c43-8b5f-d6148bf6a4cc"
      },
      "outputs": [
        {
          "name": "stdout",
          "output_type": "stream",
          "text": [
            "      Metric  LDA (Training Data)  LDA (Test Data)\n",
            "0   Accuracy             0.961538         0.961089\n",
            "1     Recall             0.990050         1.000000\n",
            "2  Precision             0.952153         0.939759\n",
            "3   F1 Score             0.970732         0.968944\n"
          ]
        }
      ],
      "source": [
        "## Tabla comparativa (entrenamiento - test):\n",
        "\n",
        "metrics = {\n",
        "    'Metric': ['Accuracy', 'Recall', 'Precision', 'F1 Score'],\n",
        "    'LDA (Training Data)': [accuracy_train_LDA, recall_train_LDA, precision_train_LDA, f1_score_train_LDA],\n",
        "    'LDA (Test Data)': [accuracy_test_LDA, recall_test_LDA, precision_test_LDA, f1_score_test_LDA]\n",
        "}\n",
        "\n",
        "metrics_df = pd.DataFrame(metrics)\n",
        "print(metrics_df)"
      ]
    },
    {
      "cell_type": "markdown",
      "metadata": {
        "id": "1Uipzw1oIw01"
      },
      "source": [
        "### Algoritmo Regresión Logística"
      ]
    },
    {
      "cell_type": "code",
      "execution_count": 41,
      "metadata": {
        "id": "uZVzrKz8Iw01"
      },
      "outputs": [],
      "source": [
        "#Inicializar el clasificador Regresión Logística y ajustarlo\n",
        "model = LogisticRegression(max_iter=1000)\n",
        "model.fit(X_train,y_train);\n"
      ]
    },
    {
      "cell_type": "code",
      "execution_count": 42,
      "metadata": {
        "id": "lsUcESBjIw01"
      },
      "outputs": [],
      "source": [
        "# predicción con X_train\n",
        "y_log_reg_train_data = model.predict(X_train)"
      ]
    },
    {
      "cell_type": "code",
      "execution_count": 43,
      "metadata": {
        "colab": {
          "base_uri": "https://localhost:8080/",
          "height": 499
        },
        "id": "oZAqFkATIw01",
        "outputId": "9397ffaf-b3f2-4143-babe-8e63c446cec8"
      },
      "outputs": [
        {
          "data": {
            "text/plain": [
              "Text(0.5, 1.0, 'Matriz de Confusión de y_train vs y_log_reg_train_data')"
            ]
          },
          "execution_count": 43,
          "metadata": {},
          "output_type": "execute_result"
        },
        {
          "data": {
            "image/png": "[encoded data removed]",
            "text/plain": [
              "<Figure size 640x480 with 1 Axes>"
            ]
          },
          "metadata": {},
          "output_type": "display_data"
        }
      ],
      "source": [
        "mat = confusion_matrix(y_train, y_log_reg_train_data)\n",
        "sns.heatmap(mat.T, square=True, annot=True, fmt='d', cbar=False,\n",
        "            xticklabels=load_breast_cancer().target_names, yticklabels=load_breast_cancer().target_names)\n",
        "plt.xlabel('true label')\n",
        "plt.ylabel('predicted label (Regresión Logística)')\n",
        "plt.title('Matriz de Confusión de y_train vs y_log_reg_train_data')"
      ]
    },
    {
      "cell_type": "markdown",
      "metadata": {
        "id": "ZHAUJh3BLkN6"
      },
      "source": [
        "Según la matriz de confusión que se observa, relacionada a la data de entrenamiento, se identifican 13 registros de cancer maligno que han sido catalogados incorrectamente como benignos. Lo cual es preocupante, considerando las repercusiones relacionadas a diagnósticos erróneos que podrían llevar a que los pacientes afectados no reciban tratamiento."
      ]
    },
    {
      "cell_type": "code",
      "execution_count": 44,
      "metadata": {
        "id": "0M5zoTv9Iw01"
      },
      "outputs": [],
      "source": [
        "accuracy_train_LR=accuracy_score(y_train,y_log_reg_train_data )\n",
        "recall_train_LR=recall_score(y_train,y_log_reg_train_data  )\n",
        "precision_train_LR=precision_score(y_train,y_log_reg_train_data )\n",
        "f1_score_train_LR=f1_score(y_train,y_log_reg_train_data )"
      ]
    },
    {
      "cell_type": "code",
      "execution_count": 45,
      "metadata": {
        "colab": {
          "base_uri": "https://localhost:8080/"
        },
        "id": "-4r14KKOLkN6",
        "outputId": "b0bebb49-33d5-4d80-ec8b-3f92f95e0604"
      },
      "outputs": [
        {
          "name": "stdout",
          "output_type": "stream",
          "text": [
            "Especificidad en el conjunto de datos de entrenamiento de cáncer de mama: 0.8828828828828829\n"
          ]
        }
      ],
      "source": [
        "#Especificidad:\n",
        "y_real = y_train\n",
        "y_pred = y_log_reg_train_data\n",
        "\n",
        "# Calcula la especificidad utilizando la función personalizada\n",
        "specificity = specificity_score(y_real, y_pred)\n",
        "\n",
        "print(\"Especificidad en el conjunto de datos de entrenamiento de cáncer de mama:\", specificity)"
      ]
    },
    {
      "cell_type": "code",
      "execution_count": 46,
      "metadata": {
        "id": "h1pRLhTuIw02"
      },
      "outputs": [],
      "source": [
        "#Predecir los labels de clase con los datos de prueba (X_test)\n",
        "y_log_reg_test_data  = model.predict(X_test)"
      ]
    },
    {
      "cell_type": "code",
      "execution_count": 47,
      "metadata": {
        "colab": {
          "base_uri": "https://localhost:8080/",
          "height": 499
        },
        "id": "6DuKqUAMIw02",
        "outputId": "f37d9e17-9f40-4554-cd09-ffe8c1c5c596"
      },
      "outputs": [
        {
          "data": {
            "text/plain": [
              "Text(0.5, 1.0, 'Matriz de Confusión de y_test vs y_log_reg_test_data')"
            ]
          },
          "execution_count": 47,
          "metadata": {},
          "output_type": "execute_result"
        },
        {
          "data": {
            "image/png": "[encoded data removed]",
            "text/plain": [
              "<Figure size 640x480 with 1 Axes>"
            ]
          },
          "metadata": {},
          "output_type": "display_data"
        }
      ],
      "source": [
        "mat = confusion_matrix(y_test, y_log_reg_test_data)\n",
        "sns.heatmap(mat.T, square=True, annot=True, fmt='d', cbar=False,\n",
        "            xticklabels=load_breast_cancer().target_names, yticklabels=load_breast_cancer().target_names)\n",
        "plt.xlabel('true label')\n",
        "plt.ylabel('predicted label (Regresión Logística)')\n",
        "plt.title('Matriz de Confusión de y_test vs y_log_reg_test_data')"
      ]
    },
    {
      "cell_type": "markdown",
      "metadata": {
        "id": "UMNHusIfLkN6"
      },
      "source": [
        "Según la matriz de confusión que se observa, relacionada a la data de testeo, se identifican 8 registros de cancer maligno que han sido catalogados incorrectamente como benignos. Al igual que el modelo sobre la data de entrenamiento, sigue siendo preocupante, ya que estos diagnósticos erróneos podrían llevar a que los pacientes afectados no reciban tratamiento."
      ]
    },
    {
      "cell_type": "code",
      "execution_count": 48,
      "metadata": {
        "colab": {
          "base_uri": "https://localhost:8080/"
        },
        "id": "Yb_FmThhIw02",
        "outputId": "5774a601-6467-47e4-e8e3-341fdfc087d7"
      },
      "outputs": [
        {
          "data": {
            "text/plain": [
              "array([[0.89981335, 0.10018665],\n",
              "       [0.97882403, 0.02117597],\n",
              "       [0.03581913, 0.96418087],\n",
              "       [0.00335289, 0.99664711],\n",
              "       [0.275727  , 0.724273  ]])"
            ]
          },
          "execution_count": 48,
          "metadata": {},
          "output_type": "execute_result"
        }
      ],
      "source": [
        "model.predict_proba(X_test)[:5]"
      ]
    },
    {
      "cell_type": "code",
      "execution_count": 49,
      "metadata": {
        "id": "46qsVj8IIw02"
      },
      "outputs": [],
      "source": [
        "accuracy_test_LR=accuracy_score(y_test,y_log_reg_test_data)\n",
        "recall_test_LR=recall_score(y_test,y_log_reg_test_data)\n",
        "precision_test_LR=precision_score(y_test,y_log_reg_test_data)\n",
        "f1_score_test_LR=f1_score(y_test,y_log_reg_test_data)"
      ]
    },
    {
      "cell_type": "code",
      "execution_count": 50,
      "metadata": {
        "colab": {
          "base_uri": "https://localhost:8080/"
        },
        "id": "Str-ZYuoLkN6",
        "outputId": "60d04d91-408a-4475-a119-6a3c7610ba4a"
      },
      "outputs": [
        {
          "name": "stdout",
          "output_type": "stream",
          "text": [
            "Especificidad en el conjunto de datos de testeo de cáncer de mama: 0.9207920792079208\n"
          ]
        }
      ],
      "source": [
        "#Especificidad:\n",
        "y_real = y_test\n",
        "y_pred = y_log_reg_test_data\n",
        "\n",
        "# Calcula la especificidad utilizando la función personalizada\n",
        "specificity = specificity_score(y_real, y_pred)\n",
        "\n",
        "print(\"Especificidad en el conjunto de datos de testeo de cáncer de mama:\", specificity)"
      ]
    },
    {
      "cell_type": "code",
      "execution_count": 51,
      "metadata": {
        "colab": {
          "base_uri": "https://localhost:8080/"
        },
        "id": "_hREHsQXLkN7",
        "outputId": "a5e5dc59-f82b-4563-d8e8-0a417e5e25c7"
      },
      "outputs": [
        {
          "name": "stdout",
          "output_type": "stream",
          "text": [
            "      Metric  Regresión Logística (Training Data)  \\\n",
            "0   Accuracy                             0.951923   \n",
            "1     Recall                             0.990050   \n",
            "2  Precision                             0.938679   \n",
            "3   F1 Score                             0.963680   \n",
            "\n",
            "   Regresión Logística (Test Data)  \n",
            "0                         0.964981  \n",
            "1                         0.993590  \n",
            "2                         0.950920  \n",
            "3                         0.971787  \n"
          ]
        }
      ],
      "source": [
        "## Tabla comparativa (entrenamiento - test):\n",
        "\n",
        "metrics = {\n",
        "    'Metric': ['Accuracy', 'Recall', 'Precision', 'F1 Score'],\n",
        "    'Regresión Logística (Training Data)': [accuracy_train_LR, recall_train_LR, precision_train_LR, f1_score_train_LR],\n",
        "    'Regresión Logística (Test Data)': [accuracy_test_LR, recall_test_LR, precision_test_LR, f1_score_test_LR]\n",
        "}\n",
        "\n",
        "metrics_df = pd.DataFrame(metrics)\n",
        "print(metrics_df)"
      ]
    },
    {
      "cell_type": "markdown",
      "metadata": {
        "id": "Tl2mkXNsIw03"
      },
      "source": [
        "## Tabla de Resultados"
      ]
    },
    {
      "cell_type": "code",
      "execution_count": 52,
      "metadata": {
        "colab": {
          "base_uri": "https://localhost:8080/"
        },
        "id": "w4J2pWjDIw03",
        "outputId": "d725f6c8-945d-4289-fcde-a7019ff20d56"
      },
      "outputs": [
        {
          "name": "stdout",
          "output_type": "stream",
          "text": [
            "                     Accuracy Precision    Recall  F1 Score  Specificity\n",
            "Naive Bayes          0.929961  0.942308  0.942308  0.942308     0.910891\n",
            "LDA                  0.961089  0.939759       1.0  0.968944     0.900990\n",
            "Logistic Regression  0.964981   0.95092   0.99359  0.971787     0.920792\n"
          ]
        }
      ],
      "source": [
        "models = {\n",
        "    'Naive Bayes': GaussianNB(),\n",
        "    'LDA': LDA(),\n",
        "    'Logistic Regression': LogisticRegression(max_iter=1000)\n",
        "}\n",
        "# Inicializar un DataFrame para almacenar los resultados\n",
        "results = pd.DataFrame(columns=['Accuracy', 'Precision', 'Recall', 'F1 Score'], index=models.keys())\n",
        "\n",
        "# Entrenar los modelos y calcular las métricas\n",
        "for model_name, model in models.items():\n",
        "    model.fit(X_train, y_train)\n",
        "    y_pred = model.predict(X_test)\n",
        "\n",
        "    results.loc[model_name, 'Accuracy'] = accuracy_score(y_test, y_pred)\n",
        "    results.loc[model_name, 'Precision'] = precision_score(y_test, y_pred)\n",
        "    results.loc[model_name, 'Recall'] = recall_score(y_test, y_pred)\n",
        "    results.loc[model_name, 'F1 Score'] = f1_score(y_test, y_pred)\n",
        "    results.loc[model_name, 'Specificity'] = specificity_score(y_real, y_pred)\n",
        "# Visualizar los resultados\n",
        "print(results)"
      ]
    },
    {
      "cell_type": "markdown",
      "metadata": {
        "id": "sdigOI2RWRHF"
      },
      "source": [
        "\n",
        "En todas las matrices de confusión, los valores que representan los verdaderos positivos se refieren a los casos en los que el cáncer benigno se identificó correctamente, mientras que los verdaderos negativos corresponden a los casos en los que el cáncer maligno se detectó correctamente.\n",
        "\n",
        "En la búsqueda por minimizar los falsos positivos, es decir, los casos de cáncer maligno que se diagnostican erróneamente como benignos, hemos empleado la métrica de especificidad para elegir el modelo que mejor se ajusta a nuestras necesidades. Según la tabla anterior, hemos determinado que el modelo de Regresión Logística sobresale al lograr la mayor tasa de especificidad registrada, que alcanza un valor del 92.079%. En consecuencia, hemos seleccionado el modelo de Regresión Logística como la elección más adecuada, ya que contribuye de manera significativa a reducir la posibilidad de que los casos de cáncer maligno queden sin identificar."
      ]
    }
  ],
  "metadata": {
    "colab": {
      "provenance": []
    },
    "kernelspec": {
      "display_name": "Python 3",
      "language": "python",
      "name": "python3"
    },
    "language_info": {
      "codemirror_mode": {
        "name": "ipython",
        "version": 3
      },
      "file_extension": ".py",
      "mimetype": "text/x-python",
      "name": "python",
      "nbconvert_exporter": "python",
      "pygments_lexer": "ipython3",
      "version": "3.11.4"
    }
  },
  "nbformat": 4,
  "nbformat_minor": 0
}
